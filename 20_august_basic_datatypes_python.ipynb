{
  "nbformat": 4,
  "nbformat_minor": 0,
  "metadata": {
    "colab": {
      "provenance": []
    },
    "kernelspec": {
      "name": "python3",
      "display_name": "Python 3"
    },
    "language_info": {
      "name": "python"
    }
  },
  "cells": [
    {
      "cell_type": "code",
      "source": [
        "# program to reverse a string\n",
        "def reverse(string):\n",
        "\tstring = string[::-1]\n",
        "\treturn string\n",
        "\n",
        "string = \"Hey , there\"\n",
        "\n",
        "print( end=\"\")\n",
        "print(reverse(string))\n"
      ],
      "metadata": {
        "colab": {
          "base_uri": "https://localhost:8080/"
        },
        "id": "lSJtDrCWQ88M",
        "outputId": "7727996c-862a-4273-da76-73a383ebd2b6"
      },
      "execution_count": 13,
      "outputs": [
        {
          "output_type": "stream",
          "name": "stdout",
          "text": [
            "ereht , yeH\n"
          ]
        }
      ]
    },
    {
      "cell_type": "code",
      "source": [
        " #check if a string is palindrome\n",
        " def is_palindrome(s):\n",
        "    s = s.lower()\n",
        "    return s == s[::-1]\n",
        "print(is_palindrome(\"nothing is this\"))"
      ],
      "metadata": {
        "colab": {
          "base_uri": "https://localhost:8080/"
        },
        "id": "vLNnxwn9VCMR",
        "outputId": "94fb6734-5e75-445f-8d5b-a21cab563eea"
      },
      "execution_count": 35,
      "outputs": [
        {
          "output_type": "stream",
          "name": "stdout",
          "text": [
            "False\n"
          ]
        }
      ]
    },
    {
      "cell_type": "code",
      "source": [
        "# convert a string to uppercase.\n",
        "input_str = input(\"Enter a string:\")\n",
        "uppercased_str = input_str.upper()\n",
        "print(\"uppercased string;\" , uppercased_str)"
      ],
      "metadata": {
        "colab": {
          "base_uri": "https://localhost:8080/"
        },
        "id": "QI8VwddnWJH5",
        "outputId": "2de41e82-592a-4d17-e8e1-55fef5d2f6c3"
      },
      "execution_count": 36,
      "outputs": [
        {
          "output_type": "stream",
          "name": "stdout",
          "text": [
            "Enter a string:hey there\n",
            "uppercased string; HEY THERE\n"
          ]
        }
      ]
    },
    {
      "cell_type": "code",
      "source": [
        "# convert a string to lowercase.\n",
        "input_str = input(\"enter a string:\")\n",
        "lowercassed_str = input_str.lower()\n",
        "print(\"lowercase string:\" , lowercassed_str)"
      ],
      "metadata": {
        "colab": {
          "base_uri": "https://localhost:8080/"
        },
        "id": "imh0EJJkWk7X",
        "outputId": "6ce61e8a-5ae7-4ffb-e128-eca2232ff7c9"
      },
      "execution_count": 37,
      "outputs": [
        {
          "output_type": "stream",
          "name": "stdout",
          "text": [
            "enter a string:Hi , Dude.\n",
            "lowercase string: hi , dude.\n"
          ]
        }
      ]
    },
    {
      "cell_type": "code",
      "source": [
        "# count the number of vowels in a string.\n",
        "def count_vowels(s):\n",
        "    # at initially\n",
        "    vowel_count = 0\n",
        "\n",
        "    s = s.lower()\n",
        "\n",
        "    vowels = set(\"aieou\")\n",
        "\n",
        "    for char in s:\n",
        "        if char in vowels:\n",
        "            vowel_count += 1\n",
        "\n",
        "    return vowel_count\n",
        "\n",
        "\n",
        "input_string = input(\"enter a string:\")\n",
        "result = count_vowels(input_string)\n",
        "print(\"number of vowels:\" , result)\n"
      ],
      "metadata": {
        "colab": {
          "base_uri": "https://localhost:8080/"
        },
        "id": "XwP1LsnVW8XS",
        "outputId": "0ff7d655-f583-47cc-a700-c6310bd55a28"
      },
      "execution_count": 39,
      "outputs": [
        {
          "output_type": "stream",
          "name": "stdout",
          "text": [
            "enter a string:i dont know\n",
            "number of vowels: 3\n"
          ]
        }
      ]
    },
    {
      "cell_type": "code",
      "source": [
        "# count the number of consonants in a string.\n",
        "def count_consonants(s):\n",
        "    consonant_count = 0\n",
        "\n",
        "    consonant = \"bcdfghjklmnpqrstvwxyz\"\n",
        "\n",
        "    for char in s:\n",
        "        if char in consonant:\n",
        "            consonant_count += 1\n",
        "\n",
        "    return consonant_count\n",
        "\n",
        "\n",
        "input_string = input(\"enter a string:\")\n",
        "input_string = input_string.lower()\n",
        "result = count_consonants(input_string)\n",
        "print(\"number of consonants:\" , result)"
      ],
      "metadata": {
        "colab": {
          "base_uri": "https://localhost:8080/"
        },
        "id": "J82-a0hsYaIL",
        "outputId": "8babd764-6c2e-4410-daab-f6c087224041"
      },
      "execution_count": 40,
      "outputs": [
        {
          "output_type": "stream",
          "name": "stdout",
          "text": [
            "enter a string:I dont know\n",
            "number of consonants: 6\n"
          ]
        }
      ]
    },
    {
      "cell_type": "code",
      "source": [
        "# remove all whitespace from a string.\n",
        "def remove_whitespace(s):\n",
        "    # creating empty stirng to store the resutl.\n",
        "    result = \"\"\n",
        "\n",
        "    for char in s:\n",
        "        if char != \" \":\n",
        "            result += char\n",
        "\n",
        "    return result\n",
        "\n",
        "\n",
        "input_string = input(\"enter a string:\")\n",
        "output_string = remove_whitespace(input_string)\n",
        "print(output_string)"
      ],
      "metadata": {
        "colab": {
          "base_uri": "https://localhost:8080/"
        },
        "id": "0DnEj-WsZbbB",
        "outputId": "c5c8f65d-320d-45af-9dd2-2e0d4ec9b54c"
      },
      "execution_count": 41,
      "outputs": [
        {
          "output_type": "stream",
          "name": "stdout",
          "text": [
            "enter a string:Hey man   what's up\n",
            "Heymanwhat'sup\n"
          ]
        }
      ]
    },
    {
      "cell_type": "code",
      "source": [
        "# find the length of a string without using len() funtion.\n",
        "\n",
        "count_len = 0\n",
        "\n",
        "input_sting = input(\"enter a string:\")\n",
        "for char in input_string:\n",
        "\n",
        "    count_len += 1\n",
        "\n",
        "print(\"length of the string is:\" , count_len)"
      ],
      "metadata": {
        "colab": {
          "base_uri": "https://localhost:8080/"
        },
        "id": "okC4CvP1aeZU",
        "outputId": "d1d2e19c-be5e-4220-f347-f29632f0313b"
      },
      "execution_count": 55,
      "outputs": [
        {
          "output_type": "stream",
          "name": "stdout",
          "text": [
            "enter a string:hjj\n",
            "length of the string is: 3\n"
          ]
        }
      ]
    },
    {
      "cell_type": "code",
      "source": [
        "# check if a string contain a specific word.\n",
        "input_string = input(\"enter a string:\")\n",
        "specific_word = input(\"enter the spectific word to check for:\")\n",
        "\n",
        "if specific_word in input_string:\n",
        "    print(f\"the string contains the word '{specific_word}.\")\n",
        "\n",
        "else:\n",
        "    print(f\"the string does not contain the word '{specific_word}\")"
      ],
      "metadata": {
        "colab": {
          "base_uri": "https://localhost:8080/"
        },
        "id": "tbuBrGkccECX",
        "outputId": "a40bfa46-23bb-458b-834d-04757f892ce7"
      },
      "execution_count": 1,
      "outputs": [
        {
          "output_type": "stream",
          "name": "stdout",
          "text": [
            "enter a string:what are you up to\n",
            "enter the spectific word to check for:is\n",
            "the string does not contain the word 'is\n"
          ]
        }
      ]
    },
    {
      "cell_type": "code",
      "source": [
        "#replace a word in a string with another word.\n",
        "input_string = input(\"enter a string:\")\n",
        "old_word = input(\"enter the word to be replaced in your string:\")\n",
        "new_word = input(\"enter the new word:\")\n",
        "\n",
        "new_string = input_string.replace(old_word, new_word)\n",
        "print(\"new string:\" , new_string)"
      ],
      "metadata": {
        "colab": {
          "base_uri": "https://localhost:8080/"
        },
        "id": "0Rv6lHgkwRmo",
        "outputId": "1675d005-e001-4d3b-91b6-973e301a36da"
      },
      "execution_count": 2,
      "outputs": [
        {
          "output_type": "stream",
          "name": "stdout",
          "text": [
            "enter a string:how are you man\n",
            "enter the word to be replaced in your string:man\n",
            "enter the new word:dude\n",
            "new string: how are you dude\n"
          ]
        }
      ]
    },
    {
      "cell_type": "code",
      "source": [
        "# count the occurrences of a word in string.\n",
        "def count_word_occurance(s, target_word):\n",
        "    word_count = 0\n",
        "\n",
        "    words = s.split()\n",
        "    for word in words:\n",
        "        if word == target_word:\n",
        "            word_count += 1\n",
        "\n",
        "    return word_count\n",
        "\n",
        "s = input(\"enter a sentence:\")\n",
        "target_word = input(\"enter a word to count the occurence in the senctence:\")\n",
        "\n",
        "result = count_word_occurance(s, target_word)\n",
        "print(f\"the word {target_word} appears {result} times in the sentence.\")"
      ],
      "metadata": {
        "colab": {
          "base_uri": "https://localhost:8080/"
        },
        "id": "tqoQSDfGxKL1",
        "outputId": "7a7af17a-3797-451b-b6e5-63d6137ec153"
      },
      "execution_count": 5,
      "outputs": [
        {
          "output_type": "stream",
          "name": "stdout",
          "text": [
            "enter a sentence:This code snipped provides a step wise solution and an explanation for counting the occurrences of a specific word in a string\n",
            "enter a word to count the occurence in the senctence:a\n",
            "the word a appears 3 times in the sentence.\n"
          ]
        }
      ]
    },
    {
      "cell_type": "code",
      "source": [
        "# find the occurence of a word in a string.\n",
        "def find_first_occurence(s, word):\n",
        "    index = s.find(word)\n",
        "\n",
        "    if index == -1:\n",
        "        return None\n",
        "\n",
        "    return index\n",
        "\n",
        "s = input(\"enter a sentence:\")\n",
        "word = input(\"enter the word you want to find the first occurence:\")\n",
        "result = find_first_occurence(s, word)\n",
        "print(\"index of the first occurence:\", result)\n"
      ],
      "metadata": {
        "colab": {
          "base_uri": "https://localhost:8080/"
        },
        "id": "IPM_1EBYymR2",
        "outputId": "e8d2356f-ceb7-434c-9e63-453bb739d90a"
      },
      "execution_count": 6,
      "outputs": [
        {
          "output_type": "stream",
          "name": "stdout",
          "text": [
            "enter a sentence:we use the find method on the text string to find the index of the first occurence\n",
            "enter the word you want to find the first occurence:the\n",
            "index of the first occurence: 7\n"
          ]
        }
      ]
    },
    {
      "cell_type": "code",
      "source": [
        "# find the last occurrence of a word in a string.\n",
        "def find_last_occurence(s, word):\n",
        "    index = s.rfind(word)\n",
        "\n",
        "    if index == -1:\n",
        "        return None\n",
        "\n",
        "    return index\n",
        "\n",
        "s = input(\"enter a sentence:\")\n",
        "word = input(\"enter the word you want to find the last occurence:\")\n",
        "result = find_last_occurence(s, word)\n",
        "print(\"the index of the last occurence:\" , result)"
      ],
      "metadata": {
        "colab": {
          "base_uri": "https://localhost:8080/"
        },
        "id": "w-n92pG8z_Hp",
        "outputId": "f2f519ec-931a-469a-e51b-6ca0a52d6968"
      },
      "execution_count": 7,
      "outputs": [
        {
          "output_type": "stream",
          "name": "stdout",
          "text": [
            "enter a sentence:return none if word not found \n",
            "enter the word you want to find the last occurence:if\n",
            "the index of the last occurence: 12\n"
          ]
        }
      ]
    },
    {
      "cell_type": "code",
      "source": [
        "#split a string into a list of words.\n",
        "def split_string_to_words(string):\n",
        "    words_list = string.split()\n",
        "    return words_list\n",
        "\n",
        "string = input(\"enter a string that you want to split:\")\n",
        "words = split_string_to_words(string)\n",
        "print(\"words in the list are:\" , words)"
      ],
      "metadata": {
        "colab": {
          "base_uri": "https://localhost:8080/"
        },
        "id": "OhWKaV2X0tv8",
        "outputId": "a49c623d-def6-41ea-d61e-f8462aff6c88"
      },
      "execution_count": 9,
      "outputs": [
        {
          "output_type": "stream",
          "name": "stdout",
          "text": [
            "enter a string that you want to split:hey man are you crazy\n",
            "words in the list are: ['hey', 'man', 'are', 'you', 'crazy']\n"
          ]
        }
      ]
    },
    {
      "cell_type": "code",
      "source": [
        "#Join a list of words into a string.\n",
        "def words_to_string(word_list):\n",
        "    string = ' '.join(word_list)\n",
        "\n",
        "    return string\n",
        "\n",
        "word_list = [\"hey\",\"man\",\"what\",\"are\"]\n",
        "text = words_to_string(word_list)\n",
        "print(\"joined string:\",text)\n"
      ],
      "metadata": {
        "colab": {
          "base_uri": "https://localhost:8080/"
        },
        "id": "JeVnNxLs1Y1T",
        "outputId": "7a623833-0bf6-47c1-f80e-b93b2bd6e459"
      },
      "execution_count": 11,
      "outputs": [
        {
          "output_type": "stream",
          "name": "stdout",
          "text": [
            "joined string: hey man what are\n"
          ]
        }
      ]
    },
    {
      "cell_type": "code",
      "source": [
        "# convert a string where words are separated by spaces to one where words are separated by underscores.\n",
        "def spaces_replaces_to_underscores(text):\n",
        "    underscore_text = text.replace(\" \",\"_\")\n",
        "    return underscore_text\n",
        "\n",
        "text = input(\"enter the sentence:\")\n",
        "result = spaces_replaces_to_underscores(text)\n",
        "print(\"converted text:\", result)"
      ],
      "metadata": {
        "colab": {
          "base_uri": "https://localhost:8080/"
        },
        "id": "koBznJ4_Jxug",
        "outputId": "4ff6d4c8-4a40-4f8f-f2b2-00b0a43e7269"
      },
      "execution_count": 1,
      "outputs": [
        {
          "output_type": "stream",
          "name": "stdout",
          "text": [
            "enter the sentence:returning the converted string after replacing the spaces.\n",
            "converted text: returning_the_converted_string_after_replacing_the_spaces.\n"
          ]
        }
      ]
    },
    {
      "cell_type": "code",
      "source": [
        "# check if a string starts with a specific word or phrase.\n",
        "def starts_with(text, s_word):\n",
        "    is_start = text.startswith(s_word)\n",
        "    return is_start\n",
        "\n",
        "text = input(\"enter the text:\")\n",
        "s_word = input(\"enter the specific word:\")\n",
        "result = starts_with(text, s_word)\n",
        "if result:\n",
        "    print(\"the text starts with the prefix\")\n",
        "else:\n",
        "    print(\"the text doesn't starts with the specific word.\")"
      ],
      "metadata": {
        "colab": {
          "base_uri": "https://localhost:8080/"
        },
        "id": "QQiUuzbuKog0",
        "outputId": "c575cf42-6945-48ca-9c34-f86c9d7fe1e8"
      },
      "execution_count": 2,
      "outputs": [
        {
          "output_type": "stream",
          "name": "stdout",
          "text": [
            "enter the text:hi dude , what are you doing\n",
            "enter the specific word:dude\n",
            "the text doesn't starts with the specific word.\n"
          ]
        }
      ]
    },
    {
      "cell_type": "code",
      "source": [
        "# check if a string ends with a specific word or phrase.\n",
        "def ends_with(text, s_word):\n",
        "    is_end = text.endswith(s_word)\n",
        "\n",
        "    return is_end\n",
        "\n",
        "text = input(\"enter the text:\")\n",
        "s_word = input(\"enter the specific word:\")\n",
        "result = ends_with(text, s_word)\n",
        "if result:\n",
        "    print(f\"the string ends with the {s_word}\")\n",
        "else:\n",
        "    print(f\"the string doesn't end with the {s_word}\")"
      ],
      "metadata": {
        "colab": {
          "base_uri": "https://localhost:8080/"
        },
        "id": "bYdTuentL466",
        "outputId": "fab684de-ffcc-4d0c-945f-ef2a3f9a3666"
      },
      "execution_count": 6,
      "outputs": [
        {
          "output_type": "stream",
          "name": "stdout",
          "text": [
            "enter the text:nothing is right\n",
            "enter the specific word:is\n",
            "the string doesn't end with the is\n"
          ]
        }
      ]
    },
    {
      "cell_type": "code",
      "source": [
        "#convert a string to title case.\n",
        "string = input(\"enter the string:\")\n",
        "string = string.title()\n",
        "print(\"title case\", string)"
      ],
      "metadata": {
        "colab": {
          "base_uri": "https://localhost:8080/"
        },
        "id": "q4mIMEdtMtHb",
        "outputId": "035a58ec-d497-47c9-d98f-647179704700"
      },
      "execution_count": 8,
      "outputs": [
        {
          "output_type": "stream",
          "name": "stdout",
          "text": [
            "enter the string:hey there\n",
            "title case Hey There\n"
          ]
        }
      ]
    },
    {
      "cell_type": "code",
      "source": [
        "# find the longest word in the string.\n",
        "def find_longest_words(string):\n",
        "    words = string.split()\n",
        "\n",
        "    longest_word = \"\"\n",
        "    max_length = 0\n",
        "\n",
        "    for word in words:\n",
        "        if len(word) > max_length:\n",
        "            max_lenght = len(word)\n",
        "            longest_word = word\n",
        "\n",
        "    return longest_word\n",
        "\n",
        "string = input(\"enter the string:\")\n",
        "longest_word = find_longest_words(string)\n",
        "print(\"longest word in the string:\", longest_word)"
      ],
      "metadata": {
        "colab": {
          "base_uri": "https://localhost:8080/"
        },
        "id": "38hX-BIwNp53",
        "outputId": "d9cd92a1-646b-42fb-e96c-538708f441d5"
      },
      "execution_count": 11,
      "outputs": [
        {
          "output_type": "stream",
          "name": "stdout",
          "text": [
            "enter the string:define the function\n",
            "longest word in the string: function\n"
          ]
        }
      ]
    },
    {
      "cell_type": "code",
      "source": [
        "# find the shortest word in a string.\n",
        "def shortest_word(text):\n",
        "    words = text.split()\n",
        "\n",
        "    shortest_word = None\n",
        "    min_length = float('inf')\n",
        "\n",
        "    for word in words:\n",
        "        if len(word) < min_length:\n",
        "            min_length = len(word)\n",
        "            shortest_word = word\n",
        "\n",
        "    return shortest_word\n",
        "\n",
        "text = input(\"enter a string:\")\n",
        "shortest_word = shortest_word(text)\n",
        "print(\"shortest word:\", shortest_word)"
      ],
      "metadata": {
        "colab": {
          "base_uri": "https://localhost:8080/"
        },
        "id": "SkGNijdTOrUJ",
        "outputId": "9aae59a5-7bca-4707-cfaa-25830b67a133"
      },
      "execution_count": 1,
      "outputs": [
        {
          "output_type": "stream",
          "name": "stdout",
          "text": [
            "enter a string:find the shortest word in a string\n",
            "shortest word: a\n"
          ]
        }
      ]
    },
    {
      "cell_type": "code",
      "source": [
        "# reverse the order of words in a string.\n",
        "def reverse_sentence(string):\n",
        "     words = string.split(' ')\n",
        "\n",
        "     reverse_sentence = ' '.join(reversed(words))\n",
        "\n",
        "     return reverse_sentence\n",
        "\n",
        "if __name__ == \"__main__\":\n",
        "    string = \"hey what's up\"\n",
        "    print(reverse_sentence(string))\n",
        "\n"
      ],
      "metadata": {
        "colab": {
          "base_uri": "https://localhost:8080/"
        },
        "id": "wnSR_AAK5gj1",
        "outputId": "3dcb2ba4-f654-4b51-b830-3165d9d04021"
      },
      "execution_count": 4,
      "outputs": [
        {
          "output_type": "stream",
          "name": "stdout",
          "text": [
            "up what's hey\n"
          ]
        }
      ]
    },
    {
      "cell_type": "code",
      "source": [
        "#check if a string is alphanumeric.\n",
        "def isalphanumeric(text):\n",
        "    return text.isalnum()\n",
        "\n",
        "text = \"hey dude\"\n",
        "result = isalphanumeric(text)\n",
        "if result:\n",
        "    print(\"the string is alphanumeric\")\n",
        "else:\n",
        "    print(\"the string is not alphanumeric\")\n"
      ],
      "metadata": {
        "colab": {
          "base_uri": "https://localhost:8080/"
        },
        "id": "gogUSFXN7jMV",
        "outputId": "8cdb8e5d-7fff-430a-99e0-ae1f2c3f1479"
      },
      "execution_count": 8,
      "outputs": [
        {
          "output_type": "stream",
          "name": "stdout",
          "text": [
            "the string is not alphanumeric\n"
          ]
        }
      ]
    },
    {
      "cell_type": "code",
      "source": [
        "# extract all digits from a string.\n",
        "def extract_digits(text):\n",
        "    digits = \"\"\n",
        "\n",
        "    for char in text:\n",
        "        if char.isdigit():\n",
        "            digits += char\n",
        "\n",
        "    return digits\n",
        "\n",
        "text = \"hi 66 you made to top 10\"\n",
        "digits = extract_digits(text)\n",
        "print(\"extreacted_digits are:\", digits)\n"
      ],
      "metadata": {
        "colab": {
          "base_uri": "https://localhost:8080/"
        },
        "id": "4Z3JHf2K8RIA",
        "outputId": "640a748b-3bcc-4041-ff72-12a036c5a478"
      },
      "execution_count": 9,
      "outputs": [
        {
          "output_type": "stream",
          "name": "stdout",
          "text": [
            "extreacted_digits are: 6610\n"
          ]
        }
      ]
    },
    {
      "cell_type": "code",
      "source": [
        "#extract all alphabets from a string.\n",
        "def extract_alphabets(text):\n",
        "    alphabets = ' '.join([char for char in text if char.isalpha()])\n",
        "    return alphabets\n",
        "\n",
        "text = \"hi3d9unl3\"\n",
        "result = extract_alphabets(text)\n",
        "print(result)\n",
        ""
      ],
      "metadata": {
        "colab": {
          "base_uri": "https://localhost:8080/"
        },
        "id": "O-HDUXyO9G0W",
        "outputId": "ebc5d00e-058d-4a27-fdae-6195ab0d5489"
      },
      "execution_count": 10,
      "outputs": [
        {
          "output_type": "stream",
          "name": "stdout",
          "text": [
            "h i d u n l\n"
          ]
        }
      ]
    },
    {
      "cell_type": "code",
      "source": [
        "# count the number of uppercase letters in a string.\n",
        "def count_uppercase(string):\n",
        "    uppercase_count = sum(1 for char in string if char.isupper())\n",
        "    return uppercase_count\n",
        "\n",
        "string = \"HeY Dude\"\n",
        "result = count_uppercase(string)\n",
        "print(\"number of uppercase letters in string :\" , result)"
      ],
      "metadata": {
        "colab": {
          "base_uri": "https://localhost:8080/"
        },
        "id": "fV9EpCSK-KVR",
        "outputId": "7785cd88-8737-4194-a749-335c52d4717c"
      },
      "execution_count": 1,
      "outputs": [
        {
          "output_type": "stream",
          "name": "stdout",
          "text": [
            "number of uppercase letters in string : 3\n"
          ]
        }
      ]
    },
    {
      "cell_type": "code",
      "source": [
        "# count the number of lowercase letters in a string.\n",
        "def count_lowercase(string):\n",
        "    lowercase_count = sum(1 for char in string if char.islower())\n",
        "    return lowercase_count\n",
        "\n",
        "string = \"HeY dude\"\n",
        "result = count_lowercase(string)\n",
        "print(\"the number of lowercase letters in string is:\", result)"
      ],
      "metadata": {
        "colab": {
          "base_uri": "https://localhost:8080/"
        },
        "id": "o3QkpRgcZg0S",
        "outputId": "9ff3f362-6a29-4621-b755-6f8f12d8a648"
      },
      "execution_count": 2,
      "outputs": [
        {
          "output_type": "stream",
          "name": "stdout",
          "text": [
            "the number of lowercase letters in string is: 5\n"
          ]
        }
      ]
    },
    {
      "cell_type": "code",
      "source": [
        "# swap the case of each character in a string.\n",
        "string = input(\"enter a string:\")\n",
        "string = string.swapcase()\n",
        "print(string)"
      ],
      "metadata": {
        "colab": {
          "base_uri": "https://localhost:8080/"
        },
        "id": "0eE-pCjzZ7En",
        "outputId": "777869fb-2c80-4ec7-8f05-ebe26a822833"
      },
      "execution_count": 3,
      "outputs": [
        {
          "output_type": "stream",
          "name": "stdout",
          "text": [
            "enter a string:Hey Dude\n",
            "hEY dUDE\n"
          ]
        }
      ]
    },
    {
      "cell_type": "code",
      "source": [
        "# remove a specific word from a string.\n",
        "def remove_sword(string, word_to_remove):\n",
        "    words = string.split()\n",
        "    filtered_words = [word for word in words if word != word_to_remove]\n",
        "    modified_string = ' '.join(filtered_words)\n",
        "    return modified_string\n",
        "\n",
        "string = input(\"enter a string:\")\n",
        "word_to_remove = input(\"enter a word that you want to remove from the string:\")\n",
        "result = remove_sword(string, word_to_remove)\n",
        "print(result)"
      ],
      "metadata": {
        "colab": {
          "base_uri": "https://localhost:8080/"
        },
        "id": "pM8fIinMaRa0",
        "outputId": "feeada64-2bbb-448e-cfad-1affa9aca63b"
      },
      "execution_count": 5,
      "outputs": [
        {
          "output_type": "stream",
          "name": "stdout",
          "text": [
            "enter a string:there is a function to remove\n",
            "enter a word that you want to remove from the string:remove\n",
            "there is a function to\n"
          ]
        }
      ]
    },
    {
      "cell_type": "code",
      "source": [
        "#check if a string is a valid email address.\n",
        "import re\n",
        "\n",
        "def valid_email(email):\n",
        "    pattern = r'^[\\w\\.-]+@[\\w\\.-]+\\.\\w+s'\n",
        "    if re.match(pattern , email):\n",
        "        return True\n",
        "    else:\n",
        "        return False\n",
        "\n",
        "email1 = \"abcd.email.com\"\n",
        "email2 = \"abcd.email\"\n",
        "result1 = valid_email(email1)\n",
        "result2 = valid_email(email2)\n",
        "print(result1)\n",
        "print(result2)"
      ],
      "metadata": {
        "colab": {
          "base_uri": "https://localhost:8080/"
        },
        "id": "uzKIVbwVbK6v",
        "outputId": "3631ffe4-1a19-400c-baf9-4bb0d79319d4"
      },
      "execution_count": 9,
      "outputs": [
        {
          "output_type": "stream",
          "name": "stdout",
          "text": [
            "False\n",
            "False\n"
          ]
        }
      ]
    },
    {
      "cell_type": "code",
      "source": [
        "# Extract the username from an email address string.\n",
        "def extract_username(email):\n",
        "    username = email.split('@')[0]\n",
        "    return username\n",
        "\n",
        "email = \"abcd@gmail.com\"\n",
        "result = extract_username(email)\n",
        "print(\"username from email address is:\", result)"
      ],
      "metadata": {
        "colab": {
          "base_uri": "https://localhost:8080/"
        },
        "id": "xvLdav3Rcec4",
        "outputId": "bc3a57c5-e587-497b-e493-5997d6e9bbb8"
      },
      "execution_count": 10,
      "outputs": [
        {
          "output_type": "stream",
          "name": "stdout",
          "text": [
            "username from email address is: abcd\n"
          ]
        }
      ]
    },
    {
      "cell_type": "code",
      "source": [
        "# Extract the domain name from an email address string.\n",
        "def extract_domain(email):\n",
        "    domain = email.split('@')[1]\n",
        "    return domain\n",
        "\n",
        "email = \"abcd@email.com\"\n",
        "result = extract_domain(email)\n",
        "print(\"domain name of email is:\", result)"
      ],
      "metadata": {
        "colab": {
          "base_uri": "https://localhost:8080/"
        },
        "id": "1ruLYmkDdWcp",
        "outputId": "efaa9948-5816-4fd8-eb54-ed8fa587ceea"
      },
      "execution_count": 11,
      "outputs": [
        {
          "output_type": "stream",
          "name": "stdout",
          "text": [
            "domain name of email is: email.com\n"
          ]
        }
      ]
    },
    {
      "cell_type": "code",
      "source": [
        "# Replace multiple spaces in a string with a single space.\n",
        "def rm_multiplespace(string):\n",
        "    rmd_sting = ' '.join(string.split())\n",
        "    return rmd_sting\n",
        "\n",
        "string = \"hi   dude  ehat you\"\n",
        "result = rm_multiplespace(string)\n",
        "print(result)"
      ],
      "metadata": {
        "colab": {
          "base_uri": "https://localhost:8080/"
        },
        "id": "RV5Mz-7kdvmO",
        "outputId": "30e937d4-52a1-4752-ea1a-9d4d5a65c238"
      },
      "execution_count": 13,
      "outputs": [
        {
          "output_type": "stream",
          "name": "stdout",
          "text": [
            "hi dude ehat you\n"
          ]
        }
      ]
    },
    {
      "cell_type": "code",
      "source": [
        "#check if a string is a valid url.\n",
        "from urllib.parse import urlparse\n",
        "def is_valid_url(url):\n",
        "    try:\n",
        "        result = urlparse(url)\n",
        "        return all([result.scheme, result.netloc])\n",
        "    except ValueError:\n",
        "        return False\n",
        "\n",
        "url1 = \"https://www.abcd.com\"\n",
        "url2 = \"abcd-url\"\n",
        "result1 = is_valid_url(url1)\n",
        "result2 = is_valid_url(url2)\n",
        "print(result1)\n",
        "print(result2)"
      ],
      "metadata": {
        "colab": {
          "base_uri": "https://localhost:8080/"
        },
        "id": "3WpaY7HeeuAj",
        "outputId": "45f3b1e5-2887-4201-a6f6-a485046c1258"
      },
      "execution_count": 14,
      "outputs": [
        {
          "output_type": "stream",
          "name": "stdout",
          "text": [
            "True\n",
            "False\n"
          ]
        }
      ]
    },
    {
      "cell_type": "code",
      "source": [
        "# extract the protocol(http or https) from a URL string.\n",
        "def extract_protocol(url):\n",
        "    protocol_end = url.find(\"://\")\n",
        "\n",
        "    if protocol_end != -1:\n",
        "        protocol = url[:protocol_end]\n",
        "        return protocol\n",
        "    else:\n",
        "        return None\n",
        "\n",
        "url1 = \"http://www.abcd.com\"\n",
        "url2 = \"https://www.abcd.com\"\n",
        "\n",
        "protocol1 = extract_protocol(url1)\n",
        "protocol2 = extract_protocol(url2)\n",
        "\n",
        "print(protocol1)\n",
        "print(protocol2)\n",
        "\n"
      ],
      "metadata": {
        "colab": {
          "base_uri": "https://localhost:8080/"
        },
        "id": "4Cpx0VAygEHb",
        "outputId": "3dfebb49-a87f-4df3-afa6-7e3ddf29e901"
      },
      "execution_count": 15,
      "outputs": [
        {
          "output_type": "stream",
          "name": "stdout",
          "text": [
            "http\n",
            "https\n"
          ]
        }
      ]
    },
    {
      "cell_type": "code",
      "source": [
        "# find the frequency of each character in a string.\n",
        "def character_frequency(string):\n",
        "    frequency= {}\n",
        "\n",
        "    for char in string:\n",
        "        if char in frequency:\n",
        "            frequency[char] +=1\n",
        "        else:\n",
        "            frequency[char] = 1\n",
        "\n",
        "\n",
        "    return frequency\n",
        "\n",
        "string = \"hey there\"\n",
        "\n",
        "char_freq = character_frequency(string)\n",
        "\n",
        "for char, freq in char_freq.items():\n",
        "    print(f\"character: '{char}', frequency: {freq}\")"
      ],
      "metadata": {
        "colab": {
          "base_uri": "https://localhost:8080/"
        },
        "id": "KqAgixZ1hEfT",
        "outputId": "5486cbdb-5d9b-42de-a9dc-cb14fc4f7c02"
      },
      "execution_count": 3,
      "outputs": [
        {
          "output_type": "stream",
          "name": "stdout",
          "text": [
            "character: 'h', frequency: 2\n",
            "character: 'e', frequency: 3\n",
            "character: 'y', frequency: 1\n",
            "character: ' ', frequency: 1\n",
            "character: 't', frequency: 1\n",
            "character: 'r', frequency: 1\n"
          ]
        }
      ]
    },
    {
      "cell_type": "code",
      "source": [
        "# remove all punctuation from a string.\n",
        "import string\n",
        "\n",
        "def rm_punctua(input_string):\n",
        "    translator = str.maketrans(\"\", \"\", string.punctuation)\n",
        "\n",
        "    clean_string = input_string.translate(translator)\n",
        "\n",
        "    return clean_string\n",
        "\n",
        "input_str = \"Hi , dude . What's up?\"\n",
        "\n",
        "cleaned_str = rm_punctua(input_str)\n",
        "print(\"original string:\", input_str)\n",
        "print(\"cleaned string:\", cleaned_str)\n"
      ],
      "metadata": {
        "colab": {
          "base_uri": "https://localhost:8080/"
        },
        "id": "gGZa9-CeEKCS",
        "outputId": "fb28de82-2717-42b9-b4fa-9e35c2de27fa"
      },
      "execution_count": 9,
      "outputs": [
        {
          "output_type": "stream",
          "name": "stdout",
          "text": [
            "original string: Hi , dude . What's up?\n",
            "cleaned string: Hi  dude  Whats up\n"
          ]
        }
      ]
    },
    {
      "cell_type": "code",
      "source": [
        "# Check if a string contains only digit.\n",
        "def only_digits(string):\n",
        "    return string.isdigit()\n",
        "\n",
        "string1 = \"454\"\n",
        "string2 = \"aber45\"\n",
        "\n",
        "result1 = only_digits(string1)\n",
        "result2 = only_digits(string2)\n",
        "\n",
        "print(f\"'{string1}' contains only digits:\", result1)\n",
        "print(f\"'{string2}' contains only digits:\", result2)"
      ],
      "metadata": {
        "colab": {
          "base_uri": "https://localhost:8080/"
        },
        "id": "BkrSTB_uFq-L",
        "outputId": "7ac27fe5-d1c5-4aa2-9b2d-7f2e7c900114"
      },
      "execution_count": 10,
      "outputs": [
        {
          "output_type": "stream",
          "name": "stdout",
          "text": [
            "'454' contains only digits: True\n",
            "'aber45' contains only digits: False\n"
          ]
        }
      ]
    },
    {
      "cell_type": "code",
      "source": [
        "# check if a string contains only alphabets.\n",
        "def only_alphabets(string):\n",
        "    return string.isalpha()\n",
        "\n",
        "string1 = \"hi\"\n",
        "string2 = \"hi45\"\n",
        "\n",
        "result1 = only_alphabets(string1)\n",
        "result2 = only_alphabets(string2)\n",
        "\n",
        "print(f\"'{string1}' contains only alphabets:\", result1)\n",
        "print(f\"'{string2}' contains only alphabets:\", result2)\n"
      ],
      "metadata": {
        "colab": {
          "base_uri": "https://localhost:8080/"
        },
        "id": "g3kjIB6ZHPZz",
        "outputId": "6d0d4486-8709-4648-e9c2-56024b14ba38"
      },
      "execution_count": 11,
      "outputs": [
        {
          "output_type": "stream",
          "name": "stdout",
          "text": [
            "'hi' contains only alphabets: True\n",
            "'hi45' contains only alphabets: False\n"
          ]
        }
      ]
    },
    {
      "cell_type": "code",
      "source": [
        "# convert a string to a list of characters.\n",
        "def string_to_list(string):\n",
        "    char_list = list(string)\n",
        "    return char_list\n",
        "\n",
        "string = \"Hi , there.\"\n",
        "\n",
        "char_list = string_to_list(string)\n",
        "\n",
        "print(\"original string:\", string)\n",
        "print(\"list of characters:\", char_list)"
      ],
      "metadata": {
        "colab": {
          "base_uri": "https://localhost:8080/"
        },
        "id": "EjJ-99VDKRXU",
        "outputId": "2dd9f5cf-6d4c-44e5-9447-f81ab2fc6783"
      },
      "execution_count": 13,
      "outputs": [
        {
          "output_type": "stream",
          "name": "stdout",
          "text": [
            "original string: Hi , there.\n",
            "list of characters: ['H', 'i', ' ', ',', ' ', 't', 'h', 'e', 'r', 'e', '.']\n"
          ]
        }
      ]
    },
    {
      "cell_type": "code",
      "source": [
        "# Check if two strings are anagrams.\n",
        "def anagrams(str1, str2):\n",
        "    str1 = str1.replace(\" \", \"\").lower()\n",
        "    str2 = str2.replace(\" \", \"\").lower()\n",
        "\n",
        "    return sorted(str1) == sorted(str2)\n",
        "\n",
        "string1 = \"hello\"\n",
        "string2 = \"hi\"\n",
        "\n",
        "result1 = anagrams(string1, string2)\n",
        "\n",
        "print(f\"'{string1}' and '{string2}' are anagrams:\", result1)"
      ],
      "metadata": {
        "colab": {
          "base_uri": "https://localhost:8080/"
        },
        "id": "C7E7lfmkKju3",
        "outputId": "22ee60ba-21c6-46c0-ea8c-b44a76707326"
      },
      "execution_count": 15,
      "outputs": [
        {
          "output_type": "stream",
          "name": "stdout",
          "text": [
            "'hello' and 'hi' are anagrams: False\n"
          ]
        }
      ]
    },
    {
      "cell_type": "code",
      "source": [
        "# Encode a string using a Caesar cipher.\n",
        "def caesar_cipher(text, shift):\n",
        "    encoded_text = \"\"\n",
        "\n",
        "    for char in text:\n",
        "        if char.isalpha():\n",
        "            encoded_char = chr((ord(char) + shift - ord('a')) %26 +ord('a'))\n",
        "        else:\n",
        "            encoded_char = char\n",
        "\n",
        "        encoded_text += encoded_char\n",
        "    return encoded_text\n",
        "\n",
        "text = \"Hi , dude\"\n",
        "shift = 4\n",
        "\n",
        "encoded_text = caesar_cipher(text, shift)\n",
        "\n",
        "print(\"Encoded text:\", encoded_text)"
      ],
      "metadata": {
        "colab": {
          "base_uri": "https://localhost:8080/"
        },
        "id": "iBj5H9ehL2b-",
        "outputId": "f7e18c1e-9467-45e4-ec96-657613b895f4"
      },
      "execution_count": 16,
      "outputs": [
        {
          "output_type": "stream",
          "name": "stdout",
          "text": [
            "Encoded text: fm , hyhi\n"
          ]
        }
      ]
    },
    {
      "cell_type": "code",
      "source": [
        "# Decode a Caesar cipher encoded string.\n",
        "def caesar_decoder(text, shift):\n",
        "    decoded_text = \"\"\n",
        "\n",
        "    for char in text:\n",
        "        if char.isalpha():\n",
        "            decoded_char = chr((ord(char) - shift - ord('a')) % 26 +ord('a'))\n",
        "\n",
        "        else:\n",
        "            decoded_char = char\n",
        "\n",
        "        decoded_text += decoded_char\n",
        "\n",
        "    return decoded_text\n",
        "\n",
        "text = \"fm , hyhi\"\n",
        "shift = 4\n",
        "decoded_text = caesar_decoder(text, shift)\n",
        "print(\"decoded text:\", decoded_text)"
      ],
      "metadata": {
        "colab": {
          "base_uri": "https://localhost:8080/"
        },
        "id": "Hg0cMrwjNP2B",
        "outputId": "f2ae8ec7-864d-427f-d212-4b64f4d9a505"
      },
      "execution_count": 19,
      "outputs": [
        {
          "output_type": "stream",
          "name": "stdout",
          "text": [
            "decoded text: bi , dude\n"
          ]
        }
      ]
    },
    {
      "cell_type": "code",
      "source": [
        "# Find the most frequend word in a string.\n",
        "import re\n",
        "from collections import Counter\n",
        "\n",
        "def most_frequent_word(input_string):\n",
        "    #remove puntuation && convert to lowercase\n",
        "    clean_string = re.sub(r'[^\\w\\s]', '', input_string).lower()\n",
        "\n",
        "    words = clean_string.split()\n",
        "\n",
        "    word_counter = Counter(words)\n",
        "\n",
        "    most_common_word = word_counter.most_common(1)[0][0]\n",
        "\n",
        "\n",
        "    return most_common_word\n",
        "\n",
        "input_string = \"we import the re module for the regular.\"\n",
        "most_common = most_frequent_word(input_string)\n",
        "print(\"most frequent word:\", most_common)"
      ],
      "metadata": {
        "colab": {
          "base_uri": "https://localhost:8080/"
        },
        "id": "VGp59YiANY11",
        "outputId": "d8ed38b6-9aed-4d9f-e289-d74d3805d489"
      },
      "execution_count": 20,
      "outputs": [
        {
          "output_type": "stream",
          "name": "stdout",
          "text": [
            "most frequent word: the\n"
          ]
        }
      ]
    },
    {
      "cell_type": "code",
      "source": [
        "# Find all unique words in a string.\n",
        "import re\n",
        "\n",
        "def unique_words(input_string):\n",
        "    clean_string = re.sub(r'[^\\w\\s]', '', input_string).lower()\n",
        "\n",
        "    words = set(clean_string.split())\n",
        "\n",
        "    return words\n",
        "\n",
        "input_string = \"we import the re module for regular expression\"\n",
        "\n",
        "unique_word = unique_words(input_string)\n",
        "print(\"unique words:\", unique_word)"
      ],
      "metadata": {
        "colab": {
          "base_uri": "https://localhost:8080/"
        },
        "id": "SlQPnIAPQxJh",
        "outputId": "11619c5c-6366-49ae-9f3a-ee0c4f15c898"
      },
      "execution_count": 21,
      "outputs": [
        {
          "output_type": "stream",
          "name": "stdout",
          "text": [
            "unique words: {'regular', 'expression', 'the', 're', 'for', 'import', 'we', 'module'}\n"
          ]
        }
      ]
    },
    {
      "cell_type": "code",
      "source": [
        "# count the number of syllables in a string.\n",
        "import re\n",
        "\n",
        "def count_syllables(word):\n",
        "    vowel_groups = re.findall(r'[aeiouy]+',word, re.IGNORECASE)\n",
        "\n",
        "    return len(vowel_groups)\n",
        "\n",
        "word1 = \"hi\"\n",
        "word2 = \"nothing\"\n",
        "\n",
        "syllables1 = count_syllables(word1)\n",
        "syllables2 = count_syllables(word2)\n",
        "\n",
        "print(f\"'{word1}' has {syllables1} syllables.\")\n",
        "print(f\"'{word2}' has {syllables2} syllables.\")"
      ],
      "metadata": {
        "colab": {
          "base_uri": "https://localhost:8080/"
        },
        "id": "ddD_SnkuRdon",
        "outputId": "4eb40d52-5bca-49a4-a988-3b3c0b9567a8"
      },
      "execution_count": 22,
      "outputs": [
        {
          "output_type": "stream",
          "name": "stdout",
          "text": [
            "'hi' has 1 syllables.\n",
            "'nothing' has 2 syllables.\n"
          ]
        }
      ]
    },
    {
      "cell_type": "code",
      "source": [
        "# Check if a string contains any special characters.\n",
        "import re\n",
        "\n",
        "def s_character(input_string):\n",
        "    pattern = re.compile(r'[!@#$%^&*()_+{}\\[\\]:;<>,.?~\\\\/]')\n",
        "    match = pattern.search(input_string)\n",
        "    return bool(match)\n",
        "\n",
        "string1 = \"hi , there!\"\n",
        "string2 = \"no.\"\n",
        "\n",
        "result1 = s_character(string1)\n",
        "result2 = s_character(string2)\n",
        "\n",
        "print(f\"'{string1}' contains special characters:\", result1)\n",
        "print(f\"'{string2}' conatins special characters:\", result2)"
      ],
      "metadata": {
        "colab": {
          "base_uri": "https://localhost:8080/"
        },
        "id": "zKncE9OuSxVl",
        "outputId": "dc3b893c-c303-4c04-b522-cd2c9439837b"
      },
      "execution_count": 24,
      "outputs": [
        {
          "output_type": "stream",
          "name": "stdout",
          "text": [
            "'hi , there!' contains special characters: True\n",
            "'no.' conatins special characters: True\n"
          ]
        }
      ]
    },
    {
      "cell_type": "code",
      "source": [
        "# Remove the nth word from a string.\n",
        "def remove_nth_word(input_string, n):\n",
        "    words = input_string.split()\n",
        "\n",
        "    if n>= 1 and n<= len(words):\n",
        "\n",
        "        removed_word = words.pop(n -1)\n",
        "\n",
        "        modified_string = ' '.join(words)\n",
        "\n",
        "        return modified_string, removed_word\n",
        "    else:\n",
        "        return None, None\n",
        "\n",
        "\n",
        "input_string = \"Remove the nth word from a string.\"\n",
        "n_value = 2\n",
        "\n",
        "modified_str, removed_word = remove_nth_word(input_string, n_value)\n",
        "\n",
        "print(\"original string:\", input_string)\n",
        "if modified_str is not None:\n",
        "      print(\"modified string:\", modified_str)\n",
        "      print(\"removed word:\", removed_word)\n",
        "else:\n",
        "      print(\"invalid n value.\")\n",
        "\n",
        "\n"
      ],
      "metadata": {
        "colab": {
          "base_uri": "https://localhost:8080/"
        },
        "id": "u_4VGpo6TjJY",
        "outputId": "b4c362d8-a0d3-4401-cd6d-030486d14e76"
      },
      "execution_count": 28,
      "outputs": [
        {
          "output_type": "stream",
          "name": "stdout",
          "text": [
            "original string: Remove the nth word from a string.\n",
            "modified string: Remove nth word from a string.\n",
            "removed word: the\n"
          ]
        }
      ]
    },
    {
      "cell_type": "code",
      "source": [
        "# Insert a word at the nth position in a string.\n",
        "input_string = \"what you doing?\"\n",
        "add_string = \"are\"\n",
        "\n",
        "N = 8\n",
        "result = input_string[ : N] + add_string + input_string[N : 1]\n",
        "print(\"the string after inserting word:\" +str(result))\n"
      ],
      "metadata": {
        "colab": {
          "base_uri": "https://localhost:8080/"
        },
        "id": "RHnFTRThVH_I",
        "outputId": "bb0529d7-d5c5-46b9-868c-7b7c99cb2bb2"
      },
      "execution_count": 32,
      "outputs": [
        {
          "output_type": "stream",
          "name": "stdout",
          "text": [
            "the string after inserting word:what youare\n"
          ]
        }
      ]
    },
    {
      "cell_type": "code",
      "source": [
        "# Convert a CSV string to a list of lists.\n",
        "def csvstring_tolist(csv_string):\n",
        "    lines = csv_string.split('\\n')\n",
        "    result = []\n",
        "\n",
        "    for line in lines:\n",
        "        fields = line.split(',')\n",
        "        result.append(fields)\n",
        "\n",
        "    return result\n",
        "\n",
        "csv_data = \"hi, bi ,5, not\"\n",
        "list_of_lists = csvstring_tolist(csv_data)\n",
        "\n",
        "for row in list_of_lists:\n",
        "    print(row)"
      ],
      "metadata": {
        "colab": {
          "base_uri": "https://localhost:8080/"
        },
        "id": "1uTaEpAiaG2L",
        "outputId": "1baed5e7-e7ad-44c3-bdc9-90019e4d0ddb"
      },
      "execution_count": 35,
      "outputs": [
        {
          "output_type": "stream",
          "name": "stdout",
          "text": [
            "['hi', ' bi ', '5', ' not']\n"
          ]
        }
      ]
    },
    {
      "cell_type": "code",
      "source": [
        "# Create a list with integers from 1 to 10,\n",
        "list1 = [i for i in range(1,11)]\n",
        "print(list1)"
      ],
      "metadata": {
        "colab": {
          "base_uri": "https://localhost:8080/"
        },
        "id": "0uEVVnQIb2WV",
        "outputId": "f54167d2-e512-43f9-a87a-e5b3a90a8c5e"
      },
      "execution_count": 22,
      "outputs": [
        {
          "output_type": "stream",
          "name": "stdout",
          "text": [
            "[1, 2, 3, 4, 5, 6, 7, 8, 9, 10]\n"
          ]
        }
      ]
    },
    {
      "cell_type": "code",
      "source": [
        "#Find the length of a list wihtout using the len() function,\n",
        "def count_length(list2):\n",
        "    count = 0\n",
        "    for _ in list:\n",
        "        count += 1\n",
        "    return count\n",
        "\n",
        "list2 = [2,45,64,64]\n",
        "lenght = count_length(list2)\n",
        "print(\"length of the list:\", lenght)"
      ],
      "metadata": {
        "colab": {
          "base_uri": "https://localhost:8080/"
        },
        "id": "I8W6698VcSA9",
        "outputId": "1b0dfcb6-a440-415e-c062-855c9ed1db33"
      },
      "execution_count": 23,
      "outputs": [
        {
          "output_type": "stream",
          "name": "stdout",
          "text": [
            "length of the list: 7\n"
          ]
        }
      ]
    },
    {
      "cell_type": "code",
      "source": [
        "# Append an element to the end of a list.\n",
        "list3 = [4,5,34,66]\n",
        "new_element = 6\n",
        "list.append(new_element)\n",
        "print(list3)"
      ],
      "metadata": {
        "colab": {
          "base_uri": "https://localhost:8080/"
        },
        "id": "Z2BnMc-qdNre",
        "outputId": "57899ff4-ab9f-46ab-852b-ffadfb8e2cc4"
      },
      "execution_count": 24,
      "outputs": [
        {
          "output_type": "stream",
          "name": "stdout",
          "text": [
            "[4, 5, 34, 66]\n"
          ]
        }
      ]
    },
    {
      "cell_type": "code",
      "source": [
        "#Insert an element at a specific index in a list.\n",
        "list4 = [2,5,6,7]\n",
        "new_element = 8\n",
        "where_insert = 4\n",
        "list4.insert(where_insert, new_element)\n",
        "print(list4)"
      ],
      "metadata": {
        "colab": {
          "base_uri": "https://localhost:8080/"
        },
        "id": "ey0Nm1BhdhsU",
        "outputId": "42016f03-32ee-4bef-812a-89302b1aefb0"
      },
      "execution_count": 25,
      "outputs": [
        {
          "output_type": "stream",
          "name": "stdout",
          "text": [
            "[2, 5, 6, 7, 8]\n"
          ]
        }
      ]
    },
    {
      "cell_type": "code",
      "source": [
        "# Remove an element from a list by its value.\n",
        "list1 = [2,3,4,5]\n",
        "list1.remove(2)\n",
        "print(list)"
      ],
      "metadata": {
        "colab": {
          "base_uri": "https://localhost:8080/"
        },
        "id": "nmZ2NyHmecdL",
        "outputId": "407c4716-1d59-4884-b852-52dadfc13ae1"
      },
      "execution_count": 29,
      "outputs": [
        {
          "output_type": "stream",
          "name": "stdout",
          "text": [
            "[2, 3, 4, 4, 6, 7, 7, 6]\n"
          ]
        }
      ]
    },
    {
      "cell_type": "code",
      "source": [
        "#Remove an element from a list by its index.\n",
        "motor = ['bmw','toyota','tata']\n",
        "index_to_remove = 1\n",
        "rmd_element = motor.pop(index_to_remove)\n",
        "print(motor)"
      ],
      "metadata": {
        "colab": {
          "base_uri": "https://localhost:8080/"
        },
        "id": "xprqfmjje19-",
        "outputId": "928b0232-b859-453f-f27d-54481c94973a"
      },
      "execution_count": 51,
      "outputs": [
        {
          "output_type": "stream",
          "name": "stdout",
          "text": [
            "['bmw', 'tata']\n"
          ]
        }
      ]
    },
    {
      "cell_type": "code",
      "source": [
        "# check if an element exist in a list.\n",
        "motor = ['bmw','toyota','tata']\n",
        "element = 'tata'\n",
        "if element in motor:\n",
        "    print(f\"'{element}' present in the list:\")\n",
        "else:\n",
        "    print(f\"'{elemen}' doesn't present in the list:\")\n"
      ],
      "metadata": {
        "colab": {
          "base_uri": "https://localhost:8080/"
        },
        "id": "-RrMq2MDfpoK",
        "outputId": "063b9b56-e3ff-4613-c73b-660c5221f9be"
      },
      "execution_count": 52,
      "outputs": [
        {
          "output_type": "stream",
          "name": "stdout",
          "text": [
            "'tata' present in the list:\n"
          ]
        }
      ]
    },
    {
      "cell_type": "code",
      "source": [
        "# Find the index of the first occurrence of an element in a list.\n",
        "motor = ['bmw','toyota','tata']\n",
        "element_to_find = 'toyota'\n",
        "index = motor.index(element_to_find)\n",
        "print(f\"the index of '{element_to_find}' is {index}\")"
      ],
      "metadata": {
        "colab": {
          "base_uri": "https://localhost:8080/"
        },
        "id": "hYT6qQMugxY8",
        "outputId": "9eb0a9d8-9fb1-4743-895f-a2257a1cd932"
      },
      "execution_count": 53,
      "outputs": [
        {
          "output_type": "stream",
          "name": "stdout",
          "text": [
            "the index of 'toyota' is 1\n"
          ]
        }
      ]
    },
    {
      "cell_type": "code",
      "source": [
        "# count the occurrence of an element in a list.\n",
        "motor = ['bmw','toyota','tata']\n",
        "element_to_count = 'tata'\n",
        "count = motor.count(element_to_count)\n",
        "print(f\"occurrence of {element_to_count} is {count}\")"
      ],
      "metadata": {
        "colab": {
          "base_uri": "https://localhost:8080/"
        },
        "id": "xbEDeJw4hw0-",
        "outputId": "17f50282-8a11-4d8b-e1a4-9752e598a718"
      },
      "execution_count": 54,
      "outputs": [
        {
          "output_type": "stream",
          "name": "stdout",
          "text": [
            "occurrence of tata is 1\n"
          ]
        }
      ]
    },
    {
      "cell_type": "code",
      "source": [
        "# Reverse the order of elements in list.\n",
        "motor = ['bmw','toyota','tata']\n",
        "motor.reverse()\n",
        "print(\"reversed list :\", motor)"
      ],
      "metadata": {
        "colab": {
          "base_uri": "https://localhost:8080/"
        },
        "id": "FW8MTO25iLE1",
        "outputId": "4f03f91e-a261-4c69-8a08-51c935e86108"
      },
      "execution_count": 55,
      "outputs": [
        {
          "output_type": "stream",
          "name": "stdout",
          "text": [
            "reversed list : ['tata', 'toyota', 'bmw']\n"
          ]
        }
      ]
    },
    {
      "cell_type": "code",
      "source": [
        "# sort a list in ascending order.\n",
        "motor = ['bmw','toyota','tata']\n",
        "motor.sort()\n",
        "print(motor)"
      ],
      "metadata": {
        "colab": {
          "base_uri": "https://localhost:8080/"
        },
        "id": "pt_V0YvxiXsA",
        "outputId": "56dad4ea-1da2-4b45-8e94-3d428f00397e"
      },
      "execution_count": 2,
      "outputs": [
        {
          "output_type": "stream",
          "name": "stdout",
          "text": [
            "['bmw', 'tata', 'toyota']\n"
          ]
        }
      ]
    },
    {
      "cell_type": "code",
      "source": [
        "# sort a list in descending order.\n",
        "motor = ['bmw','toyota','tata']\n",
        "motor.sort(reverse=True)\n",
        "print(motor)"
      ],
      "metadata": {
        "colab": {
          "base_uri": "https://localhost:8080/"
        },
        "id": "9mdzcYyiKe2l",
        "outputId": "7f7d4e2d-ccc9-42d3-a2ac-e21d078f6dda"
      },
      "execution_count": 4,
      "outputs": [
        {
          "output_type": "stream",
          "name": "stdout",
          "text": [
            "['toyota', 'tata', 'bmw']\n"
          ]
        }
      ]
    },
    {
      "cell_type": "code",
      "source": [
        "# create a list of even numbers from1 to 20.\n",
        "even_number = [i for i in range(2, 21, 2)]\n",
        "\n",
        "print(even_number)"
      ],
      "metadata": {
        "colab": {
          "base_uri": "https://localhost:8080/"
        },
        "id": "W787lepFKxWY",
        "outputId": "3a7520f5-4882-460d-8b38-db3cb3889111"
      },
      "execution_count": 6,
      "outputs": [
        {
          "output_type": "stream",
          "name": "stdout",
          "text": [
            "[2, 4, 6, 8, 10, 12, 14, 16, 18, 20]\n"
          ]
        }
      ]
    },
    {
      "cell_type": "code",
      "source": [
        "# create a list of odd numbers from 1 to 20.\n",
        "odd_number = [i for i in range(1, 21, 2\n",
        "                               )]\n",
        "print(odd_number)\n"
      ],
      "metadata": {
        "colab": {
          "base_uri": "https://localhost:8080/"
        },
        "id": "hUmNFWRqLGzY",
        "outputId": "b64deb7c-158d-4582-febe-3c0408f6cc2b"
      },
      "execution_count": 8,
      "outputs": [
        {
          "output_type": "stream",
          "name": "stdout",
          "text": [
            "[1, 3, 5, 7, 9, 11, 13, 15, 17, 19]\n"
          ]
        }
      ]
    },
    {
      "cell_type": "code",
      "source": [
        "# Find the sum of all elements in a list.\n",
        "list1 = [3,5,3]\n",
        "sum = sum(list1)\n",
        "print(\"sum of elements in the lsit:\", sum)"
      ],
      "metadata": {
        "colab": {
          "base_uri": "https://localhost:8080/"
        },
        "id": "0qc65aFhLbd9",
        "outputId": "cd9a968f-d2de-4397-b9f9-2ff62cef0b07"
      },
      "execution_count": 9,
      "outputs": [
        {
          "output_type": "stream",
          "name": "stdout",
          "text": [
            "sum of elements in the lsit: 11\n"
          ]
        }
      ]
    },
    {
      "cell_type": "code",
      "source": [
        "# find the maximum value in a list.\n",
        "list1 = [3,5,5,2,6]\n",
        "max_value = max(list1)\n",
        "print(\"maximum value in the list:\", max_value)"
      ],
      "metadata": {
        "colab": {
          "base_uri": "https://localhost:8080/"
        },
        "id": "mdtSYjDiLvUy",
        "outputId": "a65df1b3-34ea-4b65-eb56-c75feceb08ff"
      },
      "execution_count": 28,
      "outputs": [
        {
          "output_type": "stream",
          "name": "stdout",
          "text": [
            "maximum value in the list: 6\n"
          ]
        }
      ]
    },
    {
      "cell_type": "code",
      "source": [
        "# find the minimum value in the list.\n",
        "list1 = [3,5,2]\n",
        "min_value = min(list1)\n",
        "print(\"minimum value in the list:\", min_value)"
      ],
      "metadata": {
        "colab": {
          "base_uri": "https://localhost:8080/"
        },
        "id": "MkncPGHTL-WE",
        "outputId": "caad1dc3-171c-4979-fb01-7d7fc97ded44"
      },
      "execution_count": 27,
      "outputs": [
        {
          "output_type": "stream",
          "name": "stdout",
          "text": [
            "minimum value in the list: 2\n"
          ]
        }
      ]
    },
    {
      "cell_type": "code",
      "source": [
        "# create a list of squares of numbers from 1 to 10.\n",
        "square = [i ** 2 for i in range(1,11)]\n",
        "print(square)"
      ],
      "metadata": {
        "colab": {
          "base_uri": "https://localhost:8080/"
        },
        "id": "mrno-BqWMKnL",
        "outputId": "4ea4e6f6-bf31-4b37-bc19-9dc25373d2fd"
      },
      "execution_count": 12,
      "outputs": [
        {
          "output_type": "stream",
          "name": "stdout",
          "text": [
            "[1, 4, 9, 16, 25, 36, 49, 64, 81, 100]\n"
          ]
        }
      ]
    },
    {
      "cell_type": "code",
      "source": [
        "# create a list of random numbers.\n",
        "import random\n",
        "\n",
        "random_numbers = [random.randint(1, 100) for _ in range(10)]\n",
        "print(\"list of random numbers:\", random_numbers)"
      ],
      "metadata": {
        "colab": {
          "base_uri": "https://localhost:8080/"
        },
        "id": "GhdF378lMc0w",
        "outputId": "3d2f4060-3dcf-4ec0-8d58-baa8d927513d"
      },
      "execution_count": 13,
      "outputs": [
        {
          "output_type": "stream",
          "name": "stdout",
          "text": [
            "list of random numbers: [5, 12, 85, 87, 88, 69, 57, 62, 90, 51]\n"
          ]
        }
      ]
    },
    {
      "cell_type": "code",
      "source": [
        "# remove duplicates from a list.\n",
        "test_list = [1, 3, 5, 6, 3, 5, 6, 1]\n",
        "print(\"The original list is : \"\n",
        "\t+ str(test_list))\n",
        "\n",
        "res = []\n",
        "[res.append(x) for x in test_list if x not in res]\n",
        "\n",
        "print (\"The list after removing duplicates : \"\n",
        "\t+ str(res))\n"
      ],
      "metadata": {
        "colab": {
          "base_uri": "https://localhost:8080/"
        },
        "id": "CP2h71olMwe-",
        "outputId": "a848b74a-f270-40f3-b1f2-e948dc78dad8"
      },
      "execution_count": 32,
      "outputs": [
        {
          "output_type": "stream",
          "name": "stdout",
          "text": [
            "The original list is : [1, 3, 5, 6, 3, 5, 6, 1]\n",
            "The list after removing duplicates : [1, 3, 5, 6]\n"
          ]
        }
      ]
    },
    {
      "cell_type": "code",
      "source": [
        "# find the common elements between two lists.\n",
        "list1 = [1,3,4.6]\n",
        "list2 = [2,3,7]\n",
        "common_elements = list(set(list1).intersection(list2))\n",
        "print(common_elements)"
      ],
      "metadata": {
        "colab": {
          "base_uri": "https://localhost:8080/"
        },
        "id": "8U_thbS0TGCr",
        "outputId": "d6b437b2-a5eb-4895-c516-ac4b07aa2456"
      },
      "execution_count": 2,
      "outputs": [
        {
          "output_type": "stream",
          "name": "stdout",
          "text": [
            "[3]\n"
          ]
        }
      ]
    },
    {
      "cell_type": "code",
      "source": [
        "# find the difference between two lists.\n",
        "list1 = [2,4,5]\n",
        "list2 = [3,4,5]\n",
        "difference = list(set(list1).difference(list2))\n",
        "print(difference)"
      ],
      "metadata": {
        "colab": {
          "base_uri": "https://localhost:8080/"
        },
        "id": "w4FJ0LYf6UCc",
        "outputId": "be40911a-d75e-4f3a-e838-90c51b36cf6d"
      },
      "execution_count": 3,
      "outputs": [
        {
          "output_type": "stream",
          "name": "stdout",
          "text": [
            "[2]\n"
          ]
        }
      ]
    },
    {
      "cell_type": "code",
      "source": [
        "# merge two lists.\n",
        "list1 = [2,4,5]\n",
        "list2 = [3,4,5]\n",
        "merged_list = list1 + list2\n",
        "print(merged_list)"
      ],
      "metadata": {
        "colab": {
          "base_uri": "https://localhost:8080/"
        },
        "id": "sNsMmkak6tWz",
        "outputId": "da1669a7-f5d5-4a4f-8648-bb7caa5525c4"
      },
      "execution_count": 4,
      "outputs": [
        {
          "output_type": "stream",
          "name": "stdout",
          "text": [
            "[2, 4, 5, 3, 4, 5]\n"
          ]
        }
      ]
    },
    {
      "cell_type": "code",
      "source": [
        "# multiply all elements in a list by 2.\n",
        "list1 = [2,3,4]\n",
        "multiplied_list = [i * 2 for i in list1]\n",
        "print(multiplied_list)"
      ],
      "metadata": {
        "colab": {
          "base_uri": "https://localhost:8080/"
        },
        "id": "CjGFwxVv7Cn3",
        "outputId": "84fcc57d-cae9-4165-8851-a52989e66ffd"
      },
      "execution_count": 5,
      "outputs": [
        {
          "output_type": "stream",
          "name": "stdout",
          "text": [
            "[4, 6, 8]\n"
          ]
        }
      ]
    },
    {
      "cell_type": "code",
      "source": [
        "# filter out all even numbers from a list.\n",
        "list1 = [1,2,3,4,5,6,7,7]\n",
        "new_list = [i for i in list1 if i % 2 != 0]\n",
        "print(new_list)"
      ],
      "metadata": {
        "colab": {
          "base_uri": "https://localhost:8080/"
        },
        "id": "QI6wRuEI7i0J",
        "outputId": "d64329ab-ec62-420e-85c8-91e9842a45f9"
      },
      "execution_count": 6,
      "outputs": [
        {
          "output_type": "stream",
          "name": "stdout",
          "text": [
            "[1, 3, 5, 7, 7]\n"
          ]
        }
      ]
    },
    {
      "cell_type": "code",
      "source": [
        "# convert a list of strings to a list of integers.\n",
        "list1 = [\"3\",\"4\",\"6\"]\n",
        "int_list = [int(i) for i in list1]\n",
        "print(\"list of integers:\", int_list)"
      ],
      "metadata": {
        "colab": {
          "base_uri": "https://localhost:8080/"
        },
        "id": "SGugFGou8cuH",
        "outputId": "e4559efb-3b36-4b35-9031-9c87e0ada395"
      },
      "execution_count": 7,
      "outputs": [
        {
          "output_type": "stream",
          "name": "stdout",
          "text": [
            "list of integers: [3, 4, 6]\n"
          ]
        }
      ]
    },
    {
      "cell_type": "code",
      "source": [
        "# convert a list of integers to a list of strings.\n",
        "int_list = [3,5,6]\n",
        "str_list = [str(i) for i in int_list]\n",
        "print(\"list of intergers:\", str_list)\n"
      ],
      "metadata": {
        "colab": {
          "base_uri": "https://localhost:8080/"
        },
        "id": "1oIz64sF89-V",
        "outputId": "33e5a6a1-a1ad-4f9f-f21d-8359e265e1c6"
      },
      "execution_count": 8,
      "outputs": [
        {
          "output_type": "stream",
          "name": "stdout",
          "text": [
            "list of intergers: ['3', '5', '6']\n"
          ]
        }
      ]
    },
    {
      "cell_type": "code",
      "source": [
        "# flatten a nested list.\n",
        "nested_list = [[3,4], [45,34]]\n",
        "\n",
        "def flatten_list(nested):\n",
        "    flattened = []\n",
        "    for sublist in nested:\n",
        "        if isinstance(sublist, list):\n",
        "            flattened.extend(flatten_list(sublist))\n",
        "        else:\n",
        "            flattened.append(sublist)\n",
        "    return flattened\n",
        "\n",
        "flattened_list = flatten_list(nested_list)\n",
        "\n",
        "print(\"flattend list:\", flattened_list)"
      ],
      "metadata": {
        "colab": {
          "base_uri": "https://localhost:8080/"
        },
        "id": "RSmHYQwG9SgD",
        "outputId": "2dd2d0fc-3e96-4270-97f3-aba472e88453"
      },
      "execution_count": 1,
      "outputs": [
        {
          "output_type": "stream",
          "name": "stdout",
          "text": [
            "flattend list: [3, 4, 45, 34]\n"
          ]
        }
      ]
    },
    {
      "cell_type": "code",
      "source": [
        "# create a list of the first 10 fibonacci numbers.\n",
        "def generate_fibonacci(n):\n",
        "    fibonacci_list = [0, 1]\n",
        "\n",
        "    for i in range(2, n):\n",
        "        next_fibonacci = fibonacci_list[i - 1] + fibonacci_list[i - 2]\n",
        "        fibonacci_list.append(next-fibonacci)\n",
        "\n",
        "    return fibonacci_list\n",
        "\n",
        "fibonacci_number = generate_fibonacci(2)\n",
        "\n",
        "print(\"first 10 fibonacci numbers:\", fibonacci_number)"
      ],
      "metadata": {
        "colab": {
          "base_uri": "https://localhost:8080/"
        },
        "id": "euwvRAKzngds",
        "outputId": "2c004bae-86b8-4035-bfe8-6124d40be01f"
      },
      "execution_count": 2,
      "outputs": [
        {
          "output_type": "stream",
          "name": "stdout",
          "text": [
            "first 10 fibonacci numbers: [0, 1]\n"
          ]
        }
      ]
    },
    {
      "cell_type": "code",
      "source": [
        "# check if a list is sorted.\n",
        "def is_sorted(lst):\n",
        "    for i in range(1,len(lst)):\n",
        "        if lst[i] < lst[i - 1]:\n",
        "            return False\n",
        "    return True\n",
        "\n",
        "ascending_list = [1,2,3,4,5]\n",
        "\n",
        "if is_sorted(ascending_list):\n",
        "    print(\"list is sorted in ascending order:\")\n",
        "else:\n",
        "    print(\"list is not sorted in ascending order.\")"
      ],
      "metadata": {
        "colab": {
          "base_uri": "https://localhost:8080/"
        },
        "id": "vhXP15fEoJGD",
        "outputId": "ebac23a1-2459-44cf-c1de-271a7d6f0bc0"
      },
      "execution_count": 3,
      "outputs": [
        {
          "output_type": "stream",
          "name": "stdout",
          "text": [
            "list is sorted in ascending order:\n"
          ]
        }
      ]
    },
    {
      "cell_type": "code",
      "source": [
        "# rotate a list to the left by n positions.\n",
        "def rotate_left(lst, n):\n",
        "    n = n % len(lst)\n",
        "    rotated = lst[n:] + lst[:n]\n",
        "    return rotated\n",
        "\n",
        "list1 = [1,2,3]\n",
        "\n",
        "n = 3\n",
        "rotated_list = rotate_left(list1, n)\n",
        "print(\"rotated list:\",\n",
        "      rotated_list)"
      ],
      "metadata": {
        "colab": {
          "base_uri": "https://localhost:8080/"
        },
        "id": "xQ1KdS0uorDR",
        "outputId": "51f1a24d-58fd-46d1-bd52-128aa9c44596"
      },
      "execution_count": 6,
      "outputs": [
        {
          "output_type": "stream",
          "name": "stdout",
          "text": [
            "rotated list: [1, 2, 3]\n"
          ]
        }
      ]
    },
    {
      "cell_type": "code",
      "source": [
        "# rotate a list to the right by n positions.\n",
        "def rotate_right(lst, n):\n",
        "    n = n % len(lst)\n",
        "    rotated = lst[-n:] +lst [:-n]\n",
        "    return rotated\n",
        "\n",
        "list1 = [2,3,5]\n",
        "n = 2\n",
        "rotated_list = rotate_right(list1, n)\n",
        "print(\"rotated list to right\", rotated_list)"
      ],
      "metadata": {
        "colab": {
          "base_uri": "https://localhost:8080/"
        },
        "id": "JPdexT_rpI4l",
        "outputId": "a5f92e3f-7d14-4d64-c97e-c23558a51c20"
      },
      "execution_count": 7,
      "outputs": [
        {
          "output_type": "stream",
          "name": "stdout",
          "text": [
            "rotated list to right [3, 5, 2]\n"
          ]
        }
      ]
    },
    {
      "cell_type": "code",
      "source": [
        "# Create a list of prime numbers up to 50.\n",
        "def is_prime(num):\n",
        "    if num <= 1:\n",
        "        return False\n",
        "    if num <= 3:\n",
        "        return True\n",
        "    if num % 2 == 0 or num % 3 == 0:\n",
        "        return False\n",
        "    i = 5\n",
        "    while i * i <= num:\n",
        "       print(i,num)\n",
        "       if num % i == 0 or num % (i + 2) == 0:\n",
        "           return False\n",
        "       i += 6\n",
        "    return True\n",
        "\n",
        "prime_numbers = [num for num in range(2,30) if is_prime(num)]\n",
        "\n",
        "print(\"list of prime numbers up to 50:\", prime_numbers)"
      ],
      "metadata": {
        "colab": {
          "base_uri": "https://localhost:8080/"
        },
        "id": "NJeS7_Cqp1fm",
        "outputId": "45f2b4db-2e6a-488b-de13-87e2325afafe"
      },
      "execution_count": 9,
      "outputs": [
        {
          "output_type": "stream",
          "name": "stdout",
          "text": [
            "5 25\n",
            "5 29\n",
            "list of prime numbers up to 50: [2, 3, 5, 7, 11, 13, 17, 19, 23, 29]\n"
          ]
        }
      ]
    },
    {
      "cell_type": "code",
      "source": [
        "# split a list into chunks of size n.\n",
        "my_list = [2,4,6,7,4,7,3,2,1,6,7,8,7,6,4]\n",
        "def divide_chunks(l, n):\n",
        "\n",
        "    for i in range(0, len(l), n):\n",
        "        yield l[i:i + n]\n",
        "\n",
        "n =4\n",
        "result = list(divide_chunks(my_list, n))\n",
        "print(result)"
      ],
      "metadata": {
        "colab": {
          "base_uri": "https://localhost:8080/"
        },
        "id": "xMDCrbeMJnPQ",
        "outputId": "28b63c43-efde-4aef-986d-0a46286ed640"
      },
      "execution_count": 11,
      "outputs": [
        {
          "output_type": "stream",
          "name": "stdout",
          "text": [
            "[[2, 4, 6, 7], [4, 7, 3, 2], [1, 6, 7, 8], [7, 6, 4]]\n"
          ]
        }
      ]
    },
    {
      "cell_type": "code",
      "source": [
        "# find the second largest number in a list.\n",
        "my_list = [2,3,5,6,6,7]\n",
        "sorted_list = sorted(set(my_list))\n",
        "\n",
        "if len(sorted_list) >= 2:\n",
        "    second_largest = sorted_list[-2]\n",
        "    print(\"second largest number:\", second_largest)\n",
        "else:\n",
        "    None"
      ],
      "metadata": {
        "colab": {
          "base_uri": "https://localhost:8080/"
        },
        "id": "U9ZZRJ2aL_no",
        "outputId": "0575e4a2-1a50-4086-c4e1-542d19a1c831"
      },
      "execution_count": 12,
      "outputs": [
        {
          "output_type": "stream",
          "name": "stdout",
          "text": [
            "second largest number: 6\n"
          ]
        }
      ]
    },
    {
      "cell_type": "code",
      "source": [
        "#replace every element in a list with its square.\n",
        "lisst = [2,3,5,6]\n",
        "squared_list = [i ** 2 for i in lisst]\n",
        "print(\"squared_list\", squared_list)"
      ],
      "metadata": {
        "colab": {
          "base_uri": "https://localhost:8080/"
        },
        "id": "pojv95X4MpO3",
        "outputId": "53d4afea-34fe-42ac-afaa-6cab4744a9c2"
      },
      "execution_count": 13,
      "outputs": [
        {
          "output_type": "stream",
          "name": "stdout",
          "text": [
            "squared_list [4, 9, 25, 36]\n"
          ]
        }
      ]
    },
    {
      "cell_type": "code",
      "source": [
        "# convert a list to a dictionary where list elements become keys and their indices become values.\n",
        "motor = ['bmw','toyota','ford','tata']\n",
        "my_dict = {element: index for index, element in enumerate(motor)}\n",
        "print(\"converted list to dictionary:\", my_dict)"
      ],
      "metadata": {
        "colab": {
          "base_uri": "https://localhost:8080/"
        },
        "id": "AfWcmtTZM7L8",
        "outputId": "2b3ad5eb-725c-421a-c805-4bf25440a80b"
      },
      "execution_count": 14,
      "outputs": [
        {
          "output_type": "stream",
          "name": "stdout",
          "text": [
            "converted list to dictionary: {'bmw': 0, 'toyota': 1, 'ford': 2, 'tata': 3}\n"
          ]
        }
      ]
    },
    {
      "cell_type": "code",
      "source": [
        "# shuffle the elements of a list randomly.\n",
        "import random\n",
        "lisst = [1,2,3,4,5,6,7,8,89]\n",
        "random.shuffle(lisst)\n",
        "print(\"shuffled list:\", lisst)\n",
        "\n"
      ],
      "metadata": {
        "colab": {
          "base_uri": "https://localhost:8080/"
        },
        "id": "bNrd0fOHNYsz",
        "outputId": "d7138d61-c355-424b-b044-58d34470845c"
      },
      "execution_count": 15,
      "outputs": [
        {
          "output_type": "stream",
          "name": "stdout",
          "text": [
            "shuffled list: [6, 7, 2, 4, 3, 1, 5, 89, 8]\n"
          ]
        }
      ]
    },
    {
      "cell_type": "code",
      "source": [
        "# create a list of first 10 factorial numbers.\n",
        "def factorial(n):\n",
        "    if n == 0 or n == 1:\n",
        "        return 1\n",
        "    else:\n",
        "        return n * factorial(n - 1)\n",
        "\n",
        "factorial_number = [factorial(i) for i in range(10)]\n",
        "print(\"list of first 10 factorial numbers:\", factorial_number)"
      ],
      "metadata": {
        "colab": {
          "base_uri": "https://localhost:8080/"
        },
        "id": "gV-D7CpzNokL",
        "outputId": "2b857427-5975-4182-b3ee-59b51d4cdc34"
      },
      "execution_count": 16,
      "outputs": [
        {
          "output_type": "stream",
          "name": "stdout",
          "text": [
            "list of first 10 factorial numbers: [1, 1, 2, 6, 24, 120, 720, 5040, 40320, 362880]\n"
          ]
        }
      ]
    },
    {
      "cell_type": "code",
      "source": [
        "# check if two lists have at least one element in common.\n",
        "def common_element(list1, list2):\n",
        "    for item in list1:\n",
        "        if item in list2:\n",
        "            return True\n",
        "    return False\n",
        "\n",
        "list1 = [2,3,5]\n",
        "list2 = [3,7,7]\n",
        "if common_element(list1, list2):\n",
        "    print(\"lists have at least one common element:\")\n",
        "else:\n",
        "    print(\"lists do no have have any commom element:\")"
      ],
      "metadata": {
        "colab": {
          "base_uri": "https://localhost:8080/"
        },
        "id": "INxuWqLbODfn",
        "outputId": "67815ee1-361b-4cf4-cd26-2b2700251b47"
      },
      "execution_count": 18,
      "outputs": [
        {
          "output_type": "stream",
          "name": "stdout",
          "text": [
            "lists have at least one common element:\n"
          ]
        }
      ]
    },
    {
      "cell_type": "code",
      "source": [
        "# remove all elements form a list.\n",
        "lisst = [2,3,5,6]\n",
        "lisst.clear()\n",
        "print(lisst)"
      ],
      "metadata": {
        "colab": {
          "base_uri": "https://localhost:8080/"
        },
        "id": "tX-Rd14VOi_D",
        "outputId": "12170487-33d5-49a7-ca2e-52445b6a1ee3"
      },
      "execution_count": 19,
      "outputs": [
        {
          "output_type": "stream",
          "name": "stdout",
          "text": [
            "[]\n"
          ]
        }
      ]
    },
    {
      "cell_type": "code",
      "source": [
        "# replce negative numbers in a list with 0.]\n",
        "lisst = [3,6,7,-4]\n",
        "for i in range(len(lisst)):\n",
        "    if lisst[i] < 0:\n",
        "        lisst[i] = 0\n",
        "\n",
        "print(\"list without negative numbers:\",lisst)"
      ],
      "metadata": {
        "colab": {
          "base_uri": "https://localhost:8080/"
        },
        "id": "i08JmMzMO46Y",
        "outputId": "70d76616-926f-4c44-c69e-fcef48be157b"
      },
      "execution_count": 21,
      "outputs": [
        {
          "output_type": "stream",
          "name": "stdout",
          "text": [
            "list without negative numbers: [3, 6, 7, 0]\n"
          ]
        }
      ]
    },
    {
      "cell_type": "code",
      "source": [
        "# convert a string into list of words.\n",
        "string = \"hey man , what's up.\"\n",
        "word_list = string.split()\n",
        "print(\"list of words:\", word_list)"
      ],
      "metadata": {
        "colab": {
          "base_uri": "https://localhost:8080/"
        },
        "id": "XVOFnt3YPR52",
        "outputId": "d0df5cdf-54d7-4b57-be8d-6a9103b692da"
      },
      "execution_count": 22,
      "outputs": [
        {
          "output_type": "stream",
          "name": "stdout",
          "text": [
            "list of words: ['hey', 'man', ',', \"what's\", 'up.']\n"
          ]
        }
      ]
    },
    {
      "cell_type": "code",
      "source": [
        "# comvert a list of words into string.\n",
        "word_list = [\"hey\",\"man\", ',',\"what's\",\"up.\"]\n",
        "string = \" \".join(word_list)\n",
        "print(string)"
      ],
      "metadata": {
        "colab": {
          "base_uri": "https://localhost:8080/"
        },
        "id": "mLclKX56PkXg",
        "outputId": "d28c9434-5d29-49e6-b336-ba22f2a4cd46"
      },
      "execution_count": 23,
      "outputs": [
        {
          "output_type": "stream",
          "name": "stdout",
          "text": [
            "hey man , what's up.\n"
          ]
        }
      ]
    },
    {
      "cell_type": "code",
      "source": [
        "#Create a list of first n powers of 2.\n",
        "n = 8\n",
        "power_list = [2 ** i for i in range(n)]\n",
        "print(\"list of first\",n,\"owers of 2:\",power_list)"
      ],
      "metadata": {
        "colab": {
          "base_uri": "https://localhost:8080/"
        },
        "id": "A3cJUBieP1OA",
        "outputId": "7b0981b8-a276-4da6-cc98-b9c3e49b6981"
      },
      "execution_count": 24,
      "outputs": [
        {
          "output_type": "stream",
          "name": "stdout",
          "text": [
            "list of first 8 owers of 2: [1, 2, 4, 8, 16, 32, 64, 128]\n"
          ]
        }
      ]
    },
    {
      "cell_type": "code",
      "source": [
        "#find the longest string in a list of strings.\n",
        "string = [\"bmw\",\"tata\",\"toyota\"]\n",
        "longest_string = \"\"\n",
        "for i in string:\n",
        "    if len(i) > len(longest_string):\n",
        "        longest_string = i\n",
        "\n",
        "print(\"longest string:\", longest_string)"
      ],
      "metadata": {
        "colab": {
          "base_uri": "https://localhost:8080/"
        },
        "id": "MlmitySjQUF_",
        "outputId": "3f2bbf4d-3a52-4f1b-bd3c-ae2941ad5182"
      },
      "execution_count": 25,
      "outputs": [
        {
          "output_type": "stream",
          "name": "stdout",
          "text": [
            "longest string: toyota\n"
          ]
        }
      ]
    },
    {
      "cell_type": "code",
      "source": [
        "# find the shortest string in a list of strings.\n",
        "string = [\"bmw\",\"tata\",\"toyota\"]\n",
        "shortest_string = string[0]\n",
        "for s in string:\n",
        "    if len(s) < len(shortest_string):\n",
        "        shortest_string = s\n",
        "\n",
        "print(\"shortes string:\", shortest_string)\n",
        ""
      ],
      "metadata": {
        "colab": {
          "base_uri": "https://localhost:8080/"
        },
        "id": "JPeBkgp9Qu3S",
        "outputId": "9d950f8d-9b29-454f-d9d0-881758955a35"
      },
      "execution_count": 32,
      "outputs": [
        {
          "output_type": "stream",
          "name": "stdout",
          "text": [
            "shortes string: bmw\n"
          ]
        }
      ]
    },
    {
      "cell_type": "code",
      "source": [
        "# create a list of the first n triangular numbers.\n",
        "def triangular_number(n):\n",
        "    return [i * (i + 1) // 2 for i in range (1, n + 1)]\n",
        "n = 4\n",
        "triangular_list = triangular_number(n)\n",
        "print(\"list of first\",n,\"triangular numbers:\", triangular_list)"
      ],
      "metadata": {
        "colab": {
          "base_uri": "https://localhost:8080/"
        },
        "id": "LMAuUivURHuE",
        "outputId": "6c7fe605-1b1d-4d04-d28f-9b54e359b884"
      },
      "execution_count": 33,
      "outputs": [
        {
          "output_type": "stream",
          "name": "stdout",
          "text": [
            "list of first 4 triangular numbers: [1, 3, 6, 10]\n"
          ]
        }
      ]
    },
    {
      "cell_type": "code",
      "source": [
        "# check if a list contains another list as a subsequence.\n",
        "def is_subsequence(subsequence, main_list):\n",
        "    subseq_index = 0\n",
        "    for element in main_list:\n",
        "        if element == subsequence[subseq_index]:\n",
        "            subseq_index += 1\n",
        "            if subseq_index == len(subsequence):\n",
        "                return True\n",
        "    return False\n",
        "\n",
        "main_list = [1, 2, 3, 4, 5, 6, 7, 8]\n",
        "subsequence = [3, 5, 8]\n",
        "if is_subsequence(subsequence, main_list):\n",
        "    print(\"Main list has the subsequence.\")\n",
        "else:\n",
        "    print(\"Main list do not have the subsequence.\")"
      ],
      "metadata": {
        "colab": {
          "base_uri": "https://localhost:8080/"
        },
        "id": "leW9qLQMSOj3",
        "outputId": "e9886b68-5dd6-465a-9987-472a54f97f5a"
      },
      "execution_count": 35,
      "outputs": [
        {
          "output_type": "stream",
          "name": "stdout",
          "text": [
            "Main list has the subsequence.\n"
          ]
        }
      ]
    },
    {
      "cell_type": "code",
      "source": [
        "# swap two elements in a list by their indices.\n",
        "lisst = [2,3,4]\n",
        "index1 = 1\n",
        "index2 = 2\n",
        "temp = lisst[index1]\n",
        "lisst[index1] = lisst[index2]\n",
        "lisst[index2] = temp\n",
        "\n",
        "print(lisst)"
      ],
      "metadata": {
        "colab": {
          "base_uri": "https://localhost:8080/"
        },
        "id": "JCcixgv-Sqf3",
        "outputId": "7453a508-efce-412c-c990-b9b56f6b33c1"
      },
      "execution_count": 36,
      "outputs": [
        {
          "output_type": "stream",
          "name": "stdout",
          "text": [
            "[2, 4, 3]\n"
          ]
        }
      ]
    },
    {
      "cell_type": "code",
      "source": [
        "# create a tuple with integers from 1 to 5.\n",
        "tupple = tuple(range(1,6))\n",
        "print(tupple)\n"
      ],
      "metadata": {
        "colab": {
          "base_uri": "https://localhost:8080/"
        },
        "id": "lliNPOGxTBka",
        "outputId": "4b7ef92c-caad-4067-da4f-9db9ed13102c"
      },
      "execution_count": 39,
      "outputs": [
        {
          "output_type": "stream",
          "name": "stdout",
          "text": [
            "(1, 2, 3, 4, 5)\n"
          ]
        }
      ]
    },
    {
      "cell_type": "code",
      "source": [
        "# access the third element of tuple.\n",
        "tupple = (1,2,3,4,50)\n",
        "third_element = tupple[2]\n",
        "print(\"third elment of tuple is:\", third_element)"
      ],
      "metadata": {
        "colab": {
          "base_uri": "https://localhost:8080/"
        },
        "id": "2U0Vzk03UDp9",
        "outputId": "0c434874-7050-4216-d37b-fbace146ca1d"
      },
      "execution_count": 40,
      "outputs": [
        {
          "output_type": "stream",
          "name": "stdout",
          "text": [
            "third elment of tuple is: 3\n"
          ]
        }
      ]
    },
    {
      "cell_type": "code",
      "source": [
        "# find the lenth of tuple without using the len() function.\n",
        "tupple = (2,3,4,50)\n",
        "count = 0\n",
        "for _ in tupple:\n",
        "    count += 1\n",
        "\n",
        "print(\"lenth of tuple:\", count)"
      ],
      "metadata": {
        "colab": {
          "base_uri": "https://localhost:8080/"
        },
        "id": "36dQyUGpUrVN",
        "outputId": "1e445b93-f7d8-4f43-fe7d-c097c18f6606"
      },
      "execution_count": 41,
      "outputs": [
        {
          "output_type": "stream",
          "name": "stdout",
          "text": [
            "lenth of tuple: 4\n"
          ]
        }
      ]
    },
    {
      "cell_type": "code",
      "source": [
        "# count the occurrences of an element in a tuple.\n",
        "tupple = (3,5,66,6,7,8,9,9)\n",
        "element_to_count = 9\n",
        "count = 0\n",
        "for item in tupple:\n",
        "    if item == element_to_count:\n",
        "        count +=1\n",
        "\n",
        "print(f\"the element {element_to_count} appears {count} times in the tuple.\")"
      ],
      "metadata": {
        "colab": {
          "base_uri": "https://localhost:8080/"
        },
        "id": "rxUc5tIeVjpu",
        "outputId": "da83cdb5-3631-45f7-885b-4ebe4e47da6c"
      },
      "execution_count": 42,
      "outputs": [
        {
          "output_type": "stream",
          "name": "stdout",
          "text": [
            "the element 9 appears 2 times in the tuple.\n"
          ]
        }
      ]
    },
    {
      "cell_type": "code",
      "source": [
        "# find the index of the first occurrence of an element in a tuple.\n",
        "tupple = (3,5,6,7,3)\n",
        "element_to_find = 3\n",
        "index = -1\n",
        "for i, item in enumerate(tupple):\n",
        "    if item == element_to_find:\n",
        "        index = i\n",
        "        break\n",
        "if index != -1:\n",
        "    print(f\"the first occurrence of {element_to_find} is at index {index}.\")\n",
        "else:\n",
        "    print(f\"{element_to_find} is not found in the tuple\")\n",
        ""
      ],
      "metadata": {
        "colab": {
          "base_uri": "https://localhost:8080/"
        },
        "id": "dT_reT-dW46R",
        "outputId": "7d64b366-d0ba-4b73-d56b-2017031c5433"
      },
      "execution_count": 43,
      "outputs": [
        {
          "output_type": "stream",
          "name": "stdout",
          "text": [
            "the first occurrence of 3 is at index 0.\n"
          ]
        }
      ]
    },
    {
      "cell_type": "code",
      "source": [
        "# check if an element exists in a tuple.\n",
        "tupple = (3,4,6)\n",
        "element_to_check = 4\n",
        "if element_to_check in tupple:\n",
        "    print(f\"{element_to_check} exists in the tuple.\")\n",
        "else:\n",
        "    print(f\"{element_to_check} does not exist in the tuple>\")"
      ],
      "metadata": {
        "colab": {
          "base_uri": "https://localhost:8080/"
        },
        "id": "2yshby_7Xfdm",
        "outputId": "85f91fdc-074d-40d8-b8f6-09b041c1fec8"
      },
      "execution_count": 45,
      "outputs": [
        {
          "output_type": "stream",
          "name": "stdout",
          "text": [
            "4 exists in the tuple.\n"
          ]
        }
      ]
    },
    {
      "cell_type": "code",
      "source": [
        "# convet a tuple to a list.\n",
        "tupple = (3,5,6)\n",
        "lisst = list(tupple)\n",
        "print(lisst)"
      ],
      "metadata": {
        "colab": {
          "base_uri": "https://localhost:8080/"
        },
        "id": "lIYCHxz5XyEB",
        "outputId": "2947844b-88b4-4218-bf7a-955553978969"
      },
      "execution_count": 46,
      "outputs": [
        {
          "output_type": "stream",
          "name": "stdout",
          "text": [
            "[3, 5, 6]\n"
          ]
        }
      ]
    },
    {
      "cell_type": "code",
      "source": [
        "# convet a list to a tuple.\n",
        "lisst = [3,5,3]\n",
        "tupple = tuple(lisst)\n",
        "print (tupple)"
      ],
      "metadata": {
        "colab": {
          "base_uri": "https://localhost:8080/"
        },
        "id": "ycLES5ypYHpm",
        "outputId": "9f4f134c-3868-4cee-ea9c-3815225d571b"
      },
      "execution_count": 47,
      "outputs": [
        {
          "output_type": "stream",
          "name": "stdout",
          "text": [
            "(3, 5, 3)\n"
          ]
        }
      ]
    },
    {
      "cell_type": "markdown",
      "source": [
        ")\n"
      ],
      "metadata": {
        "id": "JljliajJYgov"
      }
    },
    {
      "cell_type": "code",
      "source": [
        "# unpack the elements of a tuple into variables.\n",
        "tupple = (3,5,6)\n",
        "var1, var2, var3 = tupple\n",
        "print(\"var1\",var1)\n",
        "print(\"var2\",var2)\n",
        "print(\"var3\",var3)"
      ],
      "metadata": {
        "colab": {
          "base_uri": "https://localhost:8080/"
        },
        "id": "DDLBdrzOYSa2",
        "outputId": "d8f11157-b7a8-429b-b097-fd25073f4b38"
      },
      "execution_count": 48,
      "outputs": [
        {
          "output_type": "stream",
          "name": "stdout",
          "text": [
            "var1 3\n",
            "var2 5\n",
            "var3 6\n"
          ]
        }
      ]
    },
    {
      "cell_type": "code",
      "source": [
        "# creata a tuple of even numbers form 1 to 10.\n",
        "even_list = [num for num in range(2,11,2)]\n",
        "even_tuple = tuple(even_list)\n",
        "print(\"tuple of even numbers :\", even_tuple)"
      ],
      "metadata": {
        "colab": {
          "base_uri": "https://localhost:8080/"
        },
        "id": "P83xSU1bYnuk",
        "outputId": "0f9d2ac1-5d42-42be-afc0-fc217f940b1c"
      },
      "execution_count": 49,
      "outputs": [
        {
          "output_type": "stream",
          "name": "stdout",
          "text": [
            "tuple of even numbers : (2, 4, 6, 8, 10)\n"
          ]
        }
      ]
    },
    {
      "cell_type": "code",
      "source": [
        "# create a tuple of odd numbers from 1 to 10.\n",
        "odd_list = [num for num in range(1,11,2)]\n",
        "odd_tuple = tuple(odd_list)\n",
        "print(\"tuple of odd numbers :\", odd_tuple)"
      ],
      "metadata": {
        "colab": {
          "base_uri": "https://localhost:8080/"
        },
        "id": "NEUhMVz8Y6jt",
        "outputId": "55ce452a-60f4-4bba-a989-554ba0aa145d"
      },
      "execution_count": 50,
      "outputs": [
        {
          "output_type": "stream",
          "name": "stdout",
          "text": [
            "tuple of odd numbers : (1, 3, 5, 7, 9)\n"
          ]
        }
      ]
    },
    {
      "cell_type": "code",
      "source": [
        "# concatenate two tuples.\n",
        "tuple1 = (3,5)\n",
        "tuple2 = (4,6)\n",
        "con_tuple = tuple1 + tuple2\n",
        "print(\"concatened tuple:\", con_tuple)"
      ],
      "metadata": {
        "colab": {
          "base_uri": "https://localhost:8080/"
        },
        "id": "uqfU-jGZZO7d",
        "outputId": "145537b6-7306-4442-d89b-e788a851b289"
      },
      "execution_count": 51,
      "outputs": [
        {
          "output_type": "stream",
          "name": "stdout",
          "text": [
            "concatened tuple: (3, 5, 4, 6)\n"
          ]
        }
      ]
    },
    {
      "cell_type": "code",
      "source": [
        "# repeat a tuple three times.\n",
        "tupple = (3,4)\n",
        "tupple = tupple * 3\n",
        "print(tupple)"
      ],
      "metadata": {
        "colab": {
          "base_uri": "https://localhost:8080/"
        },
        "id": "mToW8jyxZg5p",
        "outputId": "eeaed500-b0fa-426d-aeb2-22daa8a93f03"
      },
      "execution_count": 52,
      "outputs": [
        {
          "output_type": "stream",
          "name": "stdout",
          "text": [
            "(3, 4, 3, 4, 3, 4)\n"
          ]
        }
      ]
    },
    {
      "cell_type": "code",
      "source": [
        "# check if a tuple is empty.\n",
        "empty_tuple = ()\n",
        "nonempty_tuple = (3,5)\n",
        "\n",
        "if not empty_tuple:\n",
        "    print(\"the empty_tuple is empty:\")\n",
        "else:\n",
        "    print(\"the empty_tuple is not empty:\")\n",
        "\n",
        "if not nonempty_tuple:\n",
        "    print(\"the nonempty_tuple is empty.\")\n",
        "\n",
        "else:\n",
        "    print(\"the nonempty_tuple is not empty.\")"
      ],
      "metadata": {
        "colab": {
          "base_uri": "https://localhost:8080/"
        },
        "id": "mnF_U54xZqO6",
        "outputId": "4ca0c192-5f9f-4d99-bac0-586228462ba6"
      },
      "execution_count": 54,
      "outputs": [
        {
          "output_type": "stream",
          "name": "stdout",
          "text": [
            "the empty_tuple is empty:\n",
            "the nonempty_tuple is not empty.\n"
          ]
        }
      ]
    },
    {
      "cell_type": "code",
      "source": [
        "# create a nested tuple.\n",
        "tupple = ((3,5), (\"sdf\",\"dfd\"))\n",
        "print(\"nested tuple:\", tupple)"
      ],
      "metadata": {
        "colab": {
          "base_uri": "https://localhost:8080/"
        },
        "id": "9DsKRFGgZ3yc",
        "outputId": "a03ac096-6cab-442c-8d60-ce8db93dc96a"
      },
      "execution_count": 55,
      "outputs": [
        {
          "output_type": "stream",
          "name": "stdout",
          "text": [
            "nested tuple: ((3, 5), ('sdf', 'dfd'))\n"
          ]
        }
      ]
    },
    {
      "cell_type": "code",
      "source": [
        "# access the first element of a nested tuple.\n",
        "tupple = ((3,5), (\"sdf\",\"dfd\"))\n",
        "ist_element = tupple[0]\n",
        "print(\"the first element of nested tuple:\", ist_element)"
      ],
      "metadata": {
        "colab": {
          "base_uri": "https://localhost:8080/"
        },
        "id": "vxtpQoQTadAE",
        "outputId": "602103b9-6495-4d50-f56a-3cb4000f4c08"
      },
      "execution_count": 56,
      "outputs": [
        {
          "output_type": "stream",
          "name": "stdout",
          "text": [
            "the first element of nested tuple: (3, 5)\n"
          ]
        }
      ]
    },
    {
      "cell_type": "code",
      "source": [
        "#create a tuple with single element.\n",
        "tupple = (4,)\n",
        "print(\"single elemented tupple:\", tupple)"
      ],
      "metadata": {
        "colab": {
          "base_uri": "https://localhost:8080/"
        },
        "id": "4p1z6Bc3awv4",
        "outputId": "c2d36b4a-5820-4356-d5cd-8a6bd5ffc9bd"
      },
      "execution_count": 57,
      "outputs": [
        {
          "output_type": "stream",
          "name": "stdout",
          "text": [
            "single elemented tupple: (4,)\n"
          ]
        }
      ]
    },
    {
      "cell_type": "code",
      "source": [
        "# compare two tuples.\n",
        "tuple1 = (4,6,7)\n",
        "tuple2 = (3,5,6)\n",
        "\n",
        "print(\"tuple1 == tuple2:\", tuple1 == tuple2)\n",
        "print(\"tuple1 != tuple2:\", tuple1 != tuple2)\n",
        "print(\"tuple1 < tuple2:\", tuple1 < tuple2)\n",
        "print(\"tuple1 <= tuple2:\", tuple1 <= tuple2)\n",
        "print(\"tuple1 > tuple2:\", tuple1 > tuple2)\n",
        "print(\"tuple1 >= tuple2:\", tuple1 >= tuple2)"
      ],
      "metadata": {
        "colab": {
          "base_uri": "https://localhost:8080/"
        },
        "id": "Hi55ywuga6YC",
        "outputId": "f556fc1f-d9a1-40f7-b9be-7b776c022ba6"
      },
      "execution_count": 58,
      "outputs": [
        {
          "output_type": "stream",
          "name": "stdout",
          "text": [
            "tuple1 == tuple2: False\n",
            "tuple1 != tuple2: True\n",
            "tuple1 < tuple2: False\n",
            "tuple1 <= tuple2: False\n",
            "tuple1 > tuple2: True\n",
            "tuple1 >= tuple2: True\n"
          ]
        }
      ]
    },
    {
      "cell_type": "code",
      "source": [
        "# delete a tuple.\n",
        "tupple = (4,5,3)\n",
        "del tupple\n",
        "print(tupple)"
      ],
      "metadata": {
        "colab": {
          "base_uri": "https://localhost:8080/",
          "height": 212
        },
        "id": "YSXtDpX4beTl",
        "outputId": "e70c24bd-1864-4f63-c8e0-ba36335ca9dc"
      },
      "execution_count": 59,
      "outputs": [
        {
          "output_type": "error",
          "ename": "NameError",
          "evalue": "ignored",
          "traceback": [
            "\u001b[0;31m---------------------------------------------------------------------------\u001b[0m",
            "\u001b[0;31mNameError\u001b[0m                                 Traceback (most recent call last)",
            "\u001b[0;32m<ipython-input-59-ffd65e491c98>\u001b[0m in \u001b[0;36m<cell line: 4>\u001b[0;34m()\u001b[0m\n\u001b[1;32m      2\u001b[0m \u001b[0mtupple\u001b[0m \u001b[0;34m=\u001b[0m \u001b[0;34m(\u001b[0m\u001b[0;36m4\u001b[0m\u001b[0;34m,\u001b[0m\u001b[0;36m5\u001b[0m\u001b[0;34m,\u001b[0m\u001b[0;36m3\u001b[0m\u001b[0;34m)\u001b[0m\u001b[0;34m\u001b[0m\u001b[0;34m\u001b[0m\u001b[0m\n\u001b[1;32m      3\u001b[0m \u001b[0;32mdel\u001b[0m \u001b[0mtupple\u001b[0m\u001b[0;34m\u001b[0m\u001b[0;34m\u001b[0m\u001b[0m\n\u001b[0;32m----> 4\u001b[0;31m \u001b[0mprint\u001b[0m\u001b[0;34m(\u001b[0m\u001b[0mtupple\u001b[0m\u001b[0;34m)\u001b[0m\u001b[0;34m\u001b[0m\u001b[0;34m\u001b[0m\u001b[0m\n\u001b[0m",
            "\u001b[0;31mNameError\u001b[0m: name 'tupple' is not defined"
          ]
        }
      ]
    },
    {
      "cell_type": "code",
      "source": [
        "# slice a tuple.\n",
        "tupple = (34,5,6,3,6,2)\n",
        "sliced_tuple = tupple[1:3]\n",
        "print(\"sliced tuple\",sliced_tuple)"
      ],
      "metadata": {
        "colab": {
          "base_uri": "https://localhost:8080/"
        },
        "id": "BDx-yS-WbljQ",
        "outputId": "ad857ad1-2136-42f9-e194-d8b6152e9e22"
      },
      "execution_count": 60,
      "outputs": [
        {
          "output_type": "stream",
          "name": "stdout",
          "text": [
            "sliced tuple (5, 6)\n"
          ]
        }
      ]
    },
    {
      "cell_type": "code",
      "source": [
        "# find the maximum value in a tuple.\n",
        "tupple = (3,5,6)\n",
        "max_value = max(tupple)\n",
        "print(\"max value in tuple:\", max_value)"
      ],
      "metadata": {
        "colab": {
          "base_uri": "https://localhost:8080/"
        },
        "id": "n5pUbYZmb15X",
        "outputId": "ad7b34aa-54f7-4d82-8bf2-5ad94ec88767"
      },
      "execution_count": 61,
      "outputs": [
        {
          "output_type": "stream",
          "name": "stdout",
          "text": [
            "max value in tuple: 6\n"
          ]
        }
      ]
    },
    {
      "cell_type": "code",
      "source": [
        "# find the minimun value in a tuple.\n",
        "tupple = (3,5,6)\n",
        "min_value = min(tupple)\n",
        "print(\"minimum value in the tuple:\", min_value)"
      ],
      "metadata": {
        "colab": {
          "base_uri": "https://localhost:8080/"
        },
        "id": "DULFND4icA2R",
        "outputId": "084ca6cc-0bb5-495d-8bb5-bb3833e9c16b"
      },
      "execution_count": 62,
      "outputs": [
        {
          "output_type": "stream",
          "name": "stdout",
          "text": [
            "minimum value in the tuple: 3\n"
          ]
        }
      ]
    },
    {
      "cell_type": "code",
      "source": [
        "# comvet a string to a tuple of characters.\n",
        "string = \"Hey, dude.\"\n",
        "tupple = tuple(string)\n",
        "print(\"tuple of characters:\",tupple)"
      ],
      "metadata": {
        "colab": {
          "base_uri": "https://localhost:8080/"
        },
        "id": "ZkKF2HelcK1F",
        "outputId": "5450ab97-d601-407c-ebaf-0705d3b79c77"
      },
      "execution_count": 63,
      "outputs": [
        {
          "output_type": "stream",
          "name": "stdout",
          "text": [
            "tuple of characters: ('H', 'e', 'y', ',', ' ', 'd', 'u', 'd', 'e', '.')\n"
          ]
        }
      ]
    },
    {
      "cell_type": "code",
      "source": [
        "# comvet a tuple to string of characters.\n",
        "tupple = (\"hey\",\"dude.\")\n",
        "string = \"\".join(tupple)\n",
        "print(\"string of characters:\",string)"
      ],
      "metadata": {
        "colab": {
          "base_uri": "https://localhost:8080/"
        },
        "id": "p6XMYE_5cnWx",
        "outputId": "919d4817-ed39-4815-c502-fe32de65c50d"
      },
      "execution_count": 65,
      "outputs": [
        {
          "output_type": "stream",
          "name": "stdout",
          "text": [
            "string of characters: heydude.\n"
          ]
        }
      ]
    },
    {
      "cell_type": "code",
      "source": [
        "# create a tuple from multiple data types.\n",
        "tupple = (2,\"hi\",3.3)\n",
        "print(tupple)\n",
        "1/2\n",
        "(__stop: SupportsIndex, /) -> None\n",
        "\n",
        "range(stop) -> range object\n",
        "range(start, stop[, step]) -> range object\n",
        "\n",
        "Return an object that produces a sequence of integers from start (inclusive)\n",
        "to stop (exclusive) by step.  range(i, j) produces i, i+1, i+2, ..., j-1.\n",
        "start defaults to 0, and stop is omitted!  range(4) produces 0, 1, 2, 3.\n",
        "These are exactly the valid indices for a list of 4 elements.\n",
        "When step is g"
      ],
      "metadata": {
        "colab": {
          "base_uri": "https://localhost:8080/"
        },
        "id": "7VIZSeyPc0Bt",
        "outputId": "0b83fe35-d5fe-4a4b-c8f8-95286946aa5a"
      },
      "execution_count": 66,
      "outputs": [
        {
          "output_type": "stream",
          "name": "stdout",
          "text": [
            "(2, 'hi', 3.3)\n"
          ]
        }
      ]
    },
    {
      "cell_type": "code",
      "source": [
        "# check if two tuples are identical.\n",
        "tuple1 = (3,4)\n",
        "tuple2= (3,5)\n",
        "if tuple1 == tuple2:\n",
        "    print(\"both tuples are identical.\")\n",
        "else:\n",
        "    print(\"both tuples are non identical.\")"
      ],
      "metadata": {
        "colab": {
          "base_uri": "https://localhost:8080/"
        },
        "id": "DDy5JM5VdHnx",
        "outputId": "6234fb9c-e22b-4a1f-b833-43a8a7403e52"
      },
      "execution_count": 67,
      "outputs": [
        {
          "output_type": "stream",
          "name": "stdout",
          "text": [
            "both tuples are non identical.\n"
          ]
        }
      ]
    },
    {
      "cell_type": "code",
      "source": [
        "# sort the elements of a tuple.\n",
        "tupple = (3,5,6)\n",
        "sorted_tuple = tuple(sorted(tupple))\n",
        "print(\"sorted tuple\", sorted_tuple)"
      ],
      "metadata": {
        "colab": {
          "base_uri": "https://localhost:8080/"
        },
        "id": "EABzhHFadeiz",
        "outputId": "decb34fa-37f2-4e77-b080-909c7f22d7f2"
      },
      "execution_count": 68,
      "outputs": [
        {
          "output_type": "stream",
          "name": "stdout",
          "text": [
            "sorted tuple (3, 5, 6)\n"
          ]
        }
      ]
    },
    {
      "cell_type": "code",
      "source": [
        "# comvert a tuple of integers to a tuple of strings.\n",
        "tupple = (3,5,6)\n",
        "stringedtuple = tuple(str(item) for item in tupple)\n",
        "print(\"tuple of string:\", stringedtuple)\n"
      ],
      "metadata": {
        "colab": {
          "base_uri": "https://localhost:8080/"
        },
        "id": "ijfYXzb-dwLP",
        "outputId": "893e8bc4-53f7-4f81-8897-a86058caa456"
      },
      "execution_count": 70,
      "outputs": [
        {
          "output_type": "stream",
          "name": "stdout",
          "text": [
            "tuple of string: ('3', '5', '6')\n"
          ]
        }
      ]
    },
    {
      "cell_type": "code",
      "source": [
        "# comvert a tuple of strings to a tuple of integers.\n",
        "stringedtuple = ('3','4','6')\n",
        "tupple = tuple(int(item) for item in stringedtuple)\n",
        "print(\"tuple of integers:\", tupple)"
      ],
      "metadata": {
        "colab": {
          "base_uri": "https://localhost:8080/"
        },
        "id": "__PLUmrseNgC",
        "outputId": "b0da4752-ffbd-4392-d7a9-3e84f2c5f778"
      },
      "execution_count": 71,
      "outputs": [
        {
          "output_type": "stream",
          "name": "stdout",
          "text": [
            "tuple of integers: (3, 4, 6)\n"
          ]
        }
      ]
    },
    {
      "cell_type": "code",
      "source": [
        "# merge two tuples.\n",
        "tuple1 = (3,5)\n",
        "tuple2 = (1,2)\n",
        "merged_tuple = tuple1 + tuple2\n",
        "print(\"merged tuple:\", merged_tuple)\n"
      ],
      "metadata": {
        "colab": {
          "base_uri": "https://localhost:8080/"
        },
        "id": "F_DmqZKvelsD",
        "outputId": "44e49a3f-50c7-4ebe-8f1a-49ae59ca99e6"
      },
      "execution_count": 72,
      "outputs": [
        {
          "output_type": "stream",
          "name": "stdout",
          "text": [
            "merged tuple: (3, 5, 1, 2)\n"
          ]
        }
      ]
    },
    {
      "cell_type": "code",
      "source": [
        "# flatten a nested tuple.\n",
        "def flatten_tuple(nested_tuple):\n",
        "    flattened = []\n",
        "    for item in nested_tuple:\n",
        "        if isinstance(item, tuple):\n",
        "            flattened.extend(flatten_tuple(item))\n",
        "        else:\n",
        "            flattened.append(item)\n",
        "    return flattened\n",
        "\n",
        "nested_tuple = ((3,5),(3,6))\n",
        "flattened_tuple = tuple(flatten_tuple(nested_tuple))\n",
        "print(\"flattened tuple:\", flattened_tuple)\n"
      ],
      "metadata": {
        "colab": {
          "base_uri": "https://localhost:8080/"
        },
        "id": "uyP1KrmKe3QL",
        "outputId": "7ff2b0e0-b521-42c2-e506-e83f6b6df500"
      },
      "execution_count": 74,
      "outputs": [
        {
          "output_type": "stream",
          "name": "stdout",
          "text": [
            "flattened tuple: (3, 5, 3, 6)\n"
          ]
        }
      ]
    },
    {
      "cell_type": "code",
      "source": [
        "# create a tuple of first 5 prime numbeers.\n",
        "def is_prime(num):\n",
        "    if num <= 1:\n",
        "        return False\n",
        "    for i in range(2, int(num ** 0.5) + 1):\n",
        "        if num % i == 0:\n",
        "            return False\n",
        "    return True\n",
        "\n",
        "prime_number = [num for num in range(2,100) if is_prime(num)][:5]\n",
        "\n",
        "prime_numbertuple = tuple(prime_number)\n",
        "\n",
        "print(\"tuple of first 5 prime number:\", prime_numbertuple)"
      ],
      "metadata": {
        "colab": {
          "base_uri": "https://localhost:8080/"
        },
        "id": "pcsWSUUwfVXK",
        "outputId": "24cd74b3-ffa4-4bfb-b6ec-cb2cb947fe21"
      },
      "execution_count": 78,
      "outputs": [
        {
          "output_type": "stream",
          "name": "stdout",
          "text": [
            "tuple of first 5 prime number: (2, 3, 5, 7, 11)\n"
          ]
        }
      ]
    },
    {
      "cell_type": "code",
      "source": [
        "#check if tuple is palindrome.\n",
        "def is_palindrome(tup):\n",
        "    return tup == tup[::-1]\n",
        "\n",
        "palindrome_tuple = (1, 2, 3, 2, 1)\n",
        "non_palindrome_tuple = (1, 2, 3, 4, 5)\n",
        "\n",
        "is_palindrome1 = is_palindrome(palindrome_tuple)\n",
        "is_palindrome2 = is_palindrome(non_palindrome_tuple)\n",
        "\n",
        "print(\"palindrome_tuple is a palindrome:\", is_palindrome1)\n",
        "print(\"non_palindrome_tuple is a palindrome:\", is_palindrome2)"
      ],
      "metadata": {
        "colab": {
          "base_uri": "https://localhost:8080/"
        },
        "id": "65EaOmCxgJiB",
        "outputId": "adcba0a3-5b9d-430f-b0a1-e55d32b31a55"
      },
      "execution_count": 79,
      "outputs": [
        {
          "output_type": "stream",
          "name": "stdout",
          "text": [
            "palindrome_tuple is a palindrome: True\n",
            "non_palindrome_tuple is a palindrome: False\n"
          ]
        }
      ]
    },
    {
      "cell_type": "code",
      "source": [
        "# create a tuple of squares of numbers from 1 to 5.\n",
        "tupple = tuple(i ** 2 for i in range(1,6))\n",
        "print(\"tuple of squares of number form 1 to 5:\",tupple)"
      ],
      "metadata": {
        "colab": {
          "base_uri": "https://localhost:8080/"
        },
        "id": "BNV9Aybeg8Tb",
        "outputId": "8c7891d4-2508-4048-c5f3-4d4f0cb9523b"
      },
      "execution_count": 81,
      "outputs": [
        {
          "output_type": "stream",
          "name": "stdout",
          "text": [
            "tuple of squares of number form 1 to 5: (1, 4, 9, 16, 25)\n"
          ]
        }
      ]
    },
    {
      "cell_type": "code",
      "source": [
        "# filter out all even number from a tuple.\n",
        "tupple = (1,2,3,4,5,6)\n",
        "odd_tuple = tuple(num for num in tupple if num % 2  != 0)\n",
        "print(\"filtered tuple form even number:\",odd_tuple)"
      ],
      "metadata": {
        "colab": {
          "base_uri": "https://localhost:8080/"
        },
        "id": "xR5qqI4RhMJl",
        "outputId": "f3a5a19f-9a0c-4c0a-fdcb-460a75e563fc"
      },
      "execution_count": 82,
      "outputs": [
        {
          "output_type": "stream",
          "name": "stdout",
          "text": [
            "filtered tuple form even number: (1, 3, 5)\n"
          ]
        }
      ]
    },
    {
      "cell_type": "code",
      "source": [
        "# multiply all elements in tuple by 2.\n",
        "tupple = (3,5,6,6)\n",
        "tupple2 = tuple(num * 2 for num in tupple)\n",
        "print(\"tuple after multiplied all elements by 2:\", tupple2)\n"
      ],
      "metadata": {
        "colab": {
          "base_uri": "https://localhost:8080/"
        },
        "id": "Mw25HvExhjAx",
        "outputId": "c2f9b5f1-fdf1-4f44-88aa-5dc3025509b3"
      },
      "execution_count": 84,
      "outputs": [
        {
          "output_type": "stream",
          "name": "stdout",
          "text": [
            "tuple after multiplied all elements by 2: (6, 10, 12, 12)\n"
          ]
        }
      ]
    },
    {
      "cell_type": "code",
      "source": [
        "# create a tuple of random numbers.\n",
        "import random\n",
        "tupple = tuple(random.randint(1,100) for _ in range(10))\n",
        "print(\"random tuple\", tupple)"
      ],
      "metadata": {
        "colab": {
          "base_uri": "https://localhost:8080/"
        },
        "id": "cDFxug71h2N9",
        "outputId": "2c7d4637-913e-4465-b591-38ed9a28fdbe"
      },
      "execution_count": 85,
      "outputs": [
        {
          "output_type": "stream",
          "name": "stdout",
          "text": [
            "random tuple (12, 65, 84, 93, 73, 62, 56, 66, 28, 3)\n"
          ]
        }
      ]
    },
    {
      "cell_type": "code",
      "source": [
        "# check if a tuple is sorted.\n",
        "def is_sorted(tup):\n",
        "    for i in range(len(tup) - 1):\n",
        "        if tup[i] > tup[i + 1]:\n",
        "            return False\n",
        "    return True\n",
        "\n",
        "sorted_tuple = (1, 2, 3, 4, 5)\n",
        "unsorted_tuple = (5, 3, 1, 4, 2)\n",
        "\n",
        "is_sorted1 = is_sorted(sorted_tuple)\n",
        "is_sorted2 = is_sorted(unsorted_tuple)\n",
        "\n",
        "print(\"sorted_tuple is sorted:\", is_sorted1)\n",
        "print(\"unsorted_tuple is sorted:\", is_sorted2)"
      ],
      "metadata": {
        "colab": {
          "base_uri": "https://localhost:8080/"
        },
        "id": "DA6MPUeHiL_6",
        "outputId": "62344920-f494-4267-e0fc-2e213c9d0beb"
      },
      "execution_count": 86,
      "outputs": [
        {
          "output_type": "stream",
          "name": "stdout",
          "text": [
            "sorted_tuple is sorted: True\n",
            "unsorted_tuple is sorted: False\n"
          ]
        }
      ]
    },
    {
      "cell_type": "code",
      "source": [
        "# rotate a tuple to the left by n positions.\n",
        "def rotate_left(tup, n):\n",
        "    n = n % len(tup)\n",
        "    rotated_tuple = tup[n:] + tup[:n]\n",
        "    return rotated_tuple\n",
        "\n",
        "tupple = (2,3,5,6)\n",
        "n = 2\n",
        "result = rotate_left(tupple, n)\n",
        "print(result)"
      ],
      "metadata": {
        "colab": {
          "base_uri": "https://localhost:8080/"
        },
        "id": "N1RkquMFiZE3",
        "outputId": "ad164f1b-b8d8-4d16-ceff-4b9eedc551d5"
      },
      "execution_count": 88,
      "outputs": [
        {
          "output_type": "stream",
          "name": "stdout",
          "text": [
            "(5, 6, 2, 3)\n"
          ]
        }
      ]
    },
    {
      "cell_type": "code",
      "source": [
        "# rotate a tuple to the right by n positions.\n",
        "def rotate_right(tup,n):\n",
        "    n = n % len(tup)\n",
        "    rotated_tuple = tup[-n:] + tup[:-n]\n",
        "    return rotated_tuple\n",
        "\n",
        "tupple = (2,3,5)\n",
        "n = 2\n",
        "result = rotate_right(tupple,n)\n",
        "print(result)"
      ],
      "metadata": {
        "colab": {
          "base_uri": "https://localhost:8080/"
        },
        "id": "QogI8Q_IixZJ",
        "outputId": "5f93dc4a-6a29-452f-ad8d-ccfe8954cf53"
      },
      "execution_count": 89,
      "outputs": [
        {
          "output_type": "stream",
          "name": "stdout",
          "text": [
            "(3, 5, 2)\n"
          ]
        }
      ]
    },
    {
      "cell_type": "code",
      "source": [
        "# create a tuple of first 5 fibonacci numbers.\n",
        "def generate_fibonacci(n):\n",
        "    fibonacci = [0, 1]\n",
        "    while len(fibonacci) < n:\n",
        "        next_number = fibonacci[-1] + fibonacci[-2]\n",
        "        fibonacci.append(next_number)\n",
        "    return tuple(fibonacci)\n",
        "fibonacci_tuple = generate_fibonacci(5)\n",
        "\n",
        "print(fibonacci_tuple)"
      ],
      "metadata": {
        "colab": {
          "base_uri": "https://localhost:8080/"
        },
        "id": "ZzPnXqyYjQKP",
        "outputId": "eba0a33a-4914-4d7b-8e2b-72cc0947fb8e"
      },
      "execution_count": 90,
      "outputs": [
        {
          "output_type": "stream",
          "name": "stdout",
          "text": [
            "(0, 1, 1, 2, 3)\n"
          ]
        }
      ]
    },
    {
      "cell_type": "code",
      "source": [
        "# create a tuple from user input.\n",
        "input_string = input(\"enter elements separated by commas:\")\n",
        "input_list = input_string.split(',')\n",
        "user_tuple = tuple(input_list)\n",
        "print(user_tuple)"
      ],
      "metadata": {
        "colab": {
          "base_uri": "https://localhost:8080/"
        },
        "id": "K8STP9C2jnE6",
        "outputId": "ebbebf0b-0044-4d22-c7e7-6cadc2ba7324"
      },
      "execution_count": 91,
      "outputs": [
        {
          "output_type": "stream",
          "name": "stdout",
          "text": [
            "enter elements separated by commas:d,e\n",
            "('d', 'e')\n"
          ]
        }
      ]
    },
    {
      "cell_type": "code",
      "source": [
        "# swap two elements in a tuple.\n",
        "tupple = (2,3,5,6)\n",
        "index1 = 1\n",
        "index2 = 3\n",
        "swapped_tupple = tuple(\n",
        "    tupple[i] if i not in (index1, index2) else\n",
        "    tupple[index2] if i == index1 else\n",
        "    tupple[index1]\n",
        "    for i in range(len(tupple))\n",
        ")\n",
        "\n",
        "print(\"swapped tuple:\", swapped_tupple)"
      ],
      "metadata": {
        "colab": {
          "base_uri": "https://localhost:8080/"
        },
        "id": "7U7U02g4j8Xv",
        "outputId": "cae8dc19-6f06-4d1b-9a9a-5a0795809eca"
      },
      "execution_count": 92,
      "outputs": [
        {
          "output_type": "stream",
          "name": "stdout",
          "text": [
            "swapped tuple: (2, 6, 5, 3)\n"
          ]
        }
      ]
    },
    {
      "cell_type": "code",
      "source": [
        "# reverse the elements of a tuple.\n",
        "tupple = (3,5,6)\n",
        "rev_tuple = tupple[::-1]\n",
        "print(\"reversed tuple:\", rev_tuple)"
      ],
      "metadata": {
        "colab": {
          "base_uri": "https://localhost:8080/"
        },
        "id": "YJxXCkYykj06",
        "outputId": "7a7575e7-4dde-4077-f75b-862caf2c3f7e"
      },
      "execution_count": 93,
      "outputs": [
        {
          "output_type": "stream",
          "name": "stdout",
          "text": [
            "reversed tuple: (6, 5, 3)\n"
          ]
        }
      ]
    },
    {
      "cell_type": "code",
      "source": [
        "# create a tuple of the first n powers of 2.\n",
        "n = 3\n",
        "power_tuple = tuple(2 ** i for i in range(n))\n",
        "print(power_tuple)"
      ],
      "metadata": {
        "colab": {
          "base_uri": "https://localhost:8080/"
        },
        "id": "ZT5A1RrRk0WU",
        "outputId": "2732f72b-c072-4c71-b254-fc17d169742e"
      },
      "execution_count": 94,
      "outputs": [
        {
          "output_type": "stream",
          "name": "stdout",
          "text": [
            "(1, 2, 4)\n"
          ]
        }
      ]
    },
    {
      "cell_type": "code",
      "source": [
        "#find the longest string in a tuple of stirngs.\n",
        "motor = (\"bmw\",\"toyota\",\"tata\")\n",
        "longest_string = max(motor, key=len)\n",
        "print(\"longest string:\", longest_string)"
      ],
      "metadata": {
        "colab": {
          "base_uri": "https://localhost:8080/"
        },
        "id": "kgcZsorFlLNj",
        "outputId": "460ea168-2330-422e-ac72-a9efe4004f76"
      },
      "execution_count": 95,
      "outputs": [
        {
          "output_type": "stream",
          "name": "stdout",
          "text": [
            "longest string: toyota\n"
          ]
        }
      ]
    },
    {
      "cell_type": "code",
      "source": [
        "# find the shortest string in a tuple of strings.\n",
        "motor = (\"bmw\",\"toyota\",\"tata\")\n",
        "shortes_string = min(motor, key=len)\n",
        "print(\"shortes string:\", shortes_string)"
      ],
      "metadata": {
        "colab": {
          "base_uri": "https://localhost:8080/"
        },
        "id": "CAR8UvMxlcmF",
        "outputId": "03f52688-8067-45bd-ae34-f08c198d7dad"
      },
      "execution_count": 96,
      "outputs": [
        {
          "output_type": "stream",
          "name": "stdout",
          "text": [
            "shortes string: bmw\n"
          ]
        }
      ]
    },
    {
      "cell_type": "code",
      "source": [
        "# create a tuple of first n triangular numbers.\n",
        "n = 3\n",
        "tri_tuple = tuple((i * (i + 1)) // 2 for i in range(1, n+1))\n",
        "print(\"tuple of the first\",n,\"triangular numbers:\",tri_tuple)"
      ],
      "metadata": {
        "colab": {
          "base_uri": "https://localhost:8080/"
        },
        "id": "yG5KBHz-lsgr",
        "outputId": "f576a7e1-4cf4-4494-b2fb-54dbc2143e64"
      },
      "execution_count": 97,
      "outputs": [
        {
          "output_type": "stream",
          "name": "stdout",
          "text": [
            "tuple of the first 3 triangular numbers: (1, 3, 6)\n"
          ]
        }
      ]
    },
    {
      "cell_type": "code",
      "source": [
        "# check if a tuple contians another tuple as a subsequence.\n",
        "def contains_subsequence(main_tuple, sub_tuple):\n",
        "    sub_length = len(sub_tuple)\n",
        "    for i in range(len(main_tuple) - sub_length + 1):\n",
        "        if main_tuple[i:i+sub_length] == sub_tuple:\n",
        "            return True\n",
        "    return False\n",
        "\n",
        "main_tuple = (1, 2, 3, 4, 6, 7, 8, 9)\n",
        "\n",
        "sub_tuple = (3, 4, 5)\n",
        "\n",
        "contains_subseq = contains_subsequence(main_tuple, sub_tuple)\n",
        "\n",
        "print(\"Main tuple contains subsequence tuple:\", contains_subseq)"
      ],
      "metadata": {
        "colab": {
          "base_uri": "https://localhost:8080/"
        },
        "id": "PTX_ciTHmF1N",
        "outputId": "7bf03c42-8ee9-48fc-9ed9-d8a9b9dd8b28"
      },
      "execution_count": 98,
      "outputs": [
        {
          "output_type": "stream",
          "name": "stdout",
          "text": [
            "Main tuple contains subsequence tuple: False\n"
          ]
        }
      ]
    },
    {
      "cell_type": "code",
      "source": [
        "# create a tuple of alternating 1s and 0s of lenth n.\n",
        "n = 8\n",
        "alternating_tuple = tuple(i % 2 for i in range(n))\n",
        "print(\"tuple of alternating 1s and 0s:\", alternating_tuple)"
      ],
      "metadata": {
        "colab": {
          "base_uri": "https://localhost:8080/"
        },
        "id": "R4xqVqF3mZIw",
        "outputId": "6413cb0c-2ea9-437a-c8e2-d515ab881cd3"
      },
      "execution_count": 100,
      "outputs": [
        {
          "output_type": "stream",
          "name": "stdout",
          "text": [
            "tuple of alternating 1s and 0s: (0, 1, 0, 1, 0, 1, 0, 1)\n"
          ]
        }
      ]
    },
    {
      "cell_type": "code",
      "source": [
        "# create a set with integers from 1 t0 5.\n",
        "sett = set(range(1,6))\n",
        "print(sett)"
      ],
      "metadata": {
        "colab": {
          "base_uri": "https://localhost:8080/"
        },
        "id": "3yfVAlbomqe3",
        "outputId": "cda19b7d-770c-48bf-c8cd-b184b2c7d751"
      },
      "execution_count": 101,
      "outputs": [
        {
          "output_type": "stream",
          "name": "stdout",
          "text": [
            "{1, 2, 3, 4, 5}\n"
          ]
        }
      ]
    },
    {
      "cell_type": "code",
      "source": [
        "# add an element to a set.\n",
        "sett = {3,5,6}\n",
        "print(\"originals  set:\", sett)\n",
        "element = 1\n",
        "sett.add(element)\n",
        "print(sett)"
      ],
      "metadata": {
        "colab": {
          "base_uri": "https://localhost:8080/"
        },
        "id": "mxhGSrM2oTCx",
        "outputId": "abaceba9-dc49-4e76-af49-a6503329f9eb"
      },
      "execution_count": 104,
      "outputs": [
        {
          "output_type": "stream",
          "name": "stdout",
          "text": [
            "originals  set: {3, 5, 6}\n",
            "{1, 3, 5, 6}\n"
          ]
        }
      ]
    },
    {
      "cell_type": "code",
      "source": [
        "# remove an element from an set.\n",
        "sett = {3,4,5,3}\n",
        "rm_element = 3\n",
        "sett.remove(rm_element)\n",
        "print(sett)"
      ],
      "metadata": {
        "colab": {
          "base_uri": "https://localhost:8080/"
        },
        "id": "fUV7nTQVopBX",
        "outputId": "b18677d0-9de0-441e-9273-bcc29dd16dee"
      },
      "execution_count": 105,
      "outputs": [
        {
          "output_type": "stream",
          "name": "stdout",
          "text": [
            "{4, 5}\n"
          ]
        }
      ]
    },
    {
      "cell_type": "code",
      "source": [
        "# check if an element exists in a set.\n",
        "sett = {3,5,6,6}\n",
        "element = 4\n",
        "if element in sett:\n",
        "    print(\"element exist in set:\")\n",
        "else:\n",
        "    print(\"element does not exist in set\")"
      ],
      "metadata": {
        "colab": {
          "base_uri": "https://localhost:8080/"
        },
        "id": "876uNpGvpFIx",
        "outputId": "0e5aa871-c962-4cd1-f6ae-f07a89570cf3"
      },
      "execution_count": 106,
      "outputs": [
        {
          "output_type": "stream",
          "name": "stdout",
          "text": [
            "element does not exist in set\n"
          ]
        }
      ]
    },
    {
      "cell_type": "code",
      "source": [
        "# find the lenght of set without using the len() function.\n",
        "sett = {2,3,5,6}\n",
        "count = 0\n",
        "for _ in sett:\n",
        "    count += 1\n",
        "\n",
        "print(\"lenth of set:\", count)"
      ],
      "metadata": {
        "colab": {
          "base_uri": "https://localhost:8080/"
        },
        "id": "VN6tI90NpYGn",
        "outputId": "33f1f48c-70e1-4cca-8e70-239d68d4f605"
      },
      "execution_count": 107,
      "outputs": [
        {
          "output_type": "stream",
          "name": "stdout",
          "text": [
            "lenth of set: 4\n"
          ]
        }
      ]
    },
    {
      "cell_type": "code",
      "source": [
        "# clear all elements from a set.\n",
        "sett = {3,6,7}\n",
        "sett.clear()\n",
        "print(sett)\n"
      ],
      "metadata": {
        "colab": {
          "base_uri": "https://localhost:8080/"
        },
        "id": "i-qllt-cpoGl",
        "outputId": "7f67ea3a-f111-433b-827d-d2da22021262"
      },
      "execution_count": 109,
      "outputs": [
        {
          "output_type": "stream",
          "name": "stdout",
          "text": [
            "set()\n"
          ]
        }
      ]
    },
    {
      "cell_type": "code",
      "source": [
        "# create a set of even numbers from 1 to 10\n",
        "even_set = set()\n",
        "for num in range(1,11):\n",
        "    if num % 2 == 0:\n",
        "        even_set.add(num)\n",
        "\n",
        "print(even_set)"
      ],
      "metadata": {
        "colab": {
          "base_uri": "https://localhost:8080/"
        },
        "id": "w8twP9hQpyFn",
        "outputId": "867cbbb9-b929-48c5-9cbb-e1dbe62bd6a5"
      },
      "execution_count": 110,
      "outputs": [
        {
          "output_type": "stream",
          "name": "stdout",
          "text": [
            "{2, 4, 6, 8, 10}\n"
          ]
        }
      ]
    },
    {
      "cell_type": "code",
      "source": [
        "# create a set of odd number from 1 to 10.\n",
        "odd_set = set()\n",
        "for num in range(1,11):\n",
        "    if num % 2 !=  0:\n",
        "        odd_set.add(num)\n",
        "print(odd_set)"
      ],
      "metadata": {
        "colab": {
          "base_uri": "https://localhost:8080/"
        },
        "id": "Gz0XFqyA0IYW",
        "outputId": "e69aae12-d9ee-4b68-a8a0-711e6129e689"
      },
      "execution_count": 111,
      "outputs": [
        {
          "output_type": "stream",
          "name": "stdout",
          "text": [
            "{1, 3, 5, 7, 9}\n"
          ]
        }
      ]
    },
    {
      "cell_type": "code",
      "source": [
        "# find the union of two sets.\n",
        "set1 = {3,5,6}\n",
        "set2 = {3,7,8}\n",
        "union_set = set1.union(set2)\n",
        "print(\"union of 2 set:\", union_set)"
      ],
      "metadata": {
        "colab": {
          "base_uri": "https://localhost:8080/"
        },
        "id": "5QSecOli0WrR",
        "outputId": "ef28c92c-6c8e-4b22-8e57-c1fba5f4ded3"
      },
      "execution_count": 112,
      "outputs": [
        {
          "output_type": "stream",
          "name": "stdout",
          "text": [
            "union of 2 set: {3, 5, 6, 7, 8}\n"
          ]
        }
      ]
    },
    {
      "cell_type": "code",
      "source": [
        "# find the intersection of two sets\n",
        "set1 = {3,5,6}\n",
        "set2 = {3,7,8}\n",
        "intersection_set = set1.intersection(set2)\n",
        "print(\"intersectin of two set:\", intersection_set)"
      ],
      "metadata": {
        "colab": {
          "base_uri": "https://localhost:8080/"
        },
        "id": "wMUAPvnP0oU5",
        "outputId": "55a61fbf-73a2-4acc-b226-a80c04fe1198"
      },
      "execution_count": 113,
      "outputs": [
        {
          "output_type": "stream",
          "name": "stdout",
          "text": [
            "intersectin of two set: {3}\n"
          ]
        }
      ]
    },
    {
      "cell_type": "code",
      "source": [
        "# find the difference between two sets.\n",
        "set1 = {3,5,6}\n",
        "set2 = {3,7,8}\n",
        "diff_set = set1.difference(set2)\n",
        "print(\"difference btw two set is:\", diff_set)"
      ],
      "metadata": {
        "colab": {
          "base_uri": "https://localhost:8080/"
        },
        "id": "US5hzUH907dT",
        "outputId": "e0502f14-ed92-4fe0-9545-eda4b474eb2e"
      },
      "execution_count": 114,
      "outputs": [
        {
          "output_type": "stream",
          "name": "stdout",
          "text": [
            "difference btw two set is: {5, 6}\n"
          ]
        }
      ]
    },
    {
      "cell_type": "code",
      "source": [
        "# check if a set is a subset of another set.\n",
        "set1 = {3,5,6}\n",
        "set2 = {3,7,8}\n",
        "sub_set = set1.issubset(set2)\n",
        "print(\"is set1 subset of set:\", sub_set)"
      ],
      "metadata": {
        "colab": {
          "base_uri": "https://localhost:8080/"
        },
        "id": "j_v9zLy61HzN",
        "outputId": "56aedc24-44b4-40aa-8f59-d8a9408ebae8"
      },
      "execution_count": 115,
      "outputs": [
        {
          "output_type": "stream",
          "name": "stdout",
          "text": [
            "is set1 subset of set: False\n"
          ]
        }
      ]
    },
    {
      "cell_type": "code",
      "source": [
        "# check if a set is a superset of another set.\n",
        "set1 = {3,5,6}\n",
        "set2 = {3,7,8}\n",
        "super_set = set1.issuperset(set2)\n",
        "if super_set:\n",
        "    print(\"set1 is a superset of set2\")\n",
        "else:\n",
        "    print(\"set1 is not a superset of set2\")"
      ],
      "metadata": {
        "colab": {
          "base_uri": "https://localhost:8080/"
        },
        "id": "zsKX0G_e1ZkV",
        "outputId": "8307c8e9-26dc-4909-97f5-89d88494cc9c"
      },
      "execution_count": 116,
      "outputs": [
        {
          "output_type": "stream",
          "name": "stdout",
          "text": [
            "set1 is not a superset of set2\n"
          ]
        }
      ]
    },
    {
      "cell_type": "code",
      "source": [
        "# create a set from a list.\n",
        "lisst = [3,4,5]\n",
        "sett = set(lisst)\n",
        "print(sett)"
      ],
      "metadata": {
        "colab": {
          "base_uri": "https://localhost:8080/"
        },
        "id": "re6zBWV1AXDk",
        "outputId": "0db85241-080f-4645-c22d-12abee212a56"
      },
      "execution_count": 117,
      "outputs": [
        {
          "output_type": "stream",
          "name": "stdout",
          "text": [
            "{3, 4, 5}\n"
          ]
        }
      ]
    },
    {
      "cell_type": "code",
      "source": [
        "# convert a set to a list.\n",
        "sett = (3,6,7)\n",
        "lisst = list(sett)\n",
        "print(lisst)\n"
      ],
      "metadata": {
        "colab": {
          "base_uri": "https://localhost:8080/"
        },
        "id": "BjaJgN8jAghg",
        "outputId": "bb82f89e-f70b-449c-8f19-5836cd3a48d7"
      },
      "execution_count": 118,
      "outputs": [
        {
          "output_type": "stream",
          "name": "stdout",
          "text": [
            "[3, 6, 7]\n"
          ]
        }
      ]
    },
    {
      "cell_type": "code",
      "source": [
        "# remove a random element from a set.\n",
        "import random\n",
        "sett = {3,6,7}\n",
        "random_element = random.choice(list(sett))\n",
        "sett.remove(random_element)\n",
        "print(\"set after removing random element:\", random_element,sett)"
      ],
      "metadata": {
        "colab": {
          "base_uri": "https://localhost:8080/"
        },
        "id": "dALVGLMYAsRf",
        "outputId": "6228283f-3b4f-41c2-bca8-4205516ea669"
      },
      "execution_count": 121,
      "outputs": [
        {
          "output_type": "stream",
          "name": "stdout",
          "text": [
            "set after removing random element: 7 {3, 6}\n"
          ]
        }
      ]
    },
    {
      "cell_type": "code",
      "source": [
        "# pop an element from a set.\n",
        "sett ={3,6,3}\n",
        "ppd_elmt = sett.pop()\n",
        "print(sett\n",
        "      )"
      ],
      "metadata": {
        "colab": {
          "base_uri": "https://localhost:8080/"
        },
        "id": "MhOKFrxoBN9p",
        "outputId": "115a3d52-6c6c-4a92-9dbe-47182326c798"
      },
      "execution_count": 122,
      "outputs": [
        {
          "output_type": "stream",
          "name": "stdout",
          "text": [
            "{6}\n"
          ]
        }
      ]
    },
    {
      "cell_type": "code",
      "source": [
        "# check if two sets have no elements in common.\n",
        "set1 = {3,5,6}\n",
        "set2 = {3,7,8}\n",
        "common_elmt = set1.intersection(set2)\n",
        "if not common_elmt:\n",
        "    print(\"sets have no common element\")\n",
        "else:\n",
        "    print(\"sets have common element:\", common_elmt)"
      ],
      "metadata": {
        "colab": {
          "base_uri": "https://localhost:8080/"
        },
        "id": "_mE8Rl2TBvLr",
        "outputId": "1c462047-ca0c-4197-bd47-8b8995b9d55f"
      },
      "execution_count": 123,
      "outputs": [
        {
          "output_type": "stream",
          "name": "stdout",
          "text": [
            "sets have common element: {3}\n"
          ]
        }
      ]
    },
    {
      "cell_type": "code",
      "source": [
        "# find the symmetric difference btw two sets.\n",
        "set1 = {3,5,6}\n",
        "set2 = {3,7,8}\n",
        "sym_diff = set1 ^ set2\n",
        "print(\"symmetric difference :\", sym_diff)"
      ],
      "metadata": {
        "colab": {
          "base_uri": "https://localhost:8080/"
        },
        "id": "gO687qOkCDH6",
        "outputId": "2f6ca045-f900-4a01-9ce6-0877d3304e63"
      },
      "execution_count": 124,
      "outputs": [
        {
          "output_type": "stream",
          "name": "stdout",
          "text": [
            "symmetric difference : {5, 6, 7, 8}\n"
          ]
        }
      ]
    },
    {
      "cell_type": "code",
      "source": [
        "# update a sset with elements from another set.\n",
        "set1 = {3,6}\n",
        "set2 = {5,7}\n",
        "set1.update(set2)\n",
        "print(set1)"
      ],
      "metadata": {
        "colab": {
          "base_uri": "https://localhost:8080/"
        },
        "id": "ikHpp70XCO_i",
        "outputId": "dbfeb94d-4feb-4545-b1f1-63848d51f62d"
      },
      "execution_count": 125,
      "outputs": [
        {
          "output_type": "stream",
          "name": "stdout",
          "text": [
            "{3, 5, 6, 7}\n"
          ]
        }
      ]
    },
    {
      "cell_type": "code",
      "source": [
        "# create a set of first 5 prime number.\n",
        "def is_prime(num):\n",
        "    if num <= 1:\n",
        "        return False\n",
        "    for i in range(2, int(num ** 0.5) + 1):\n",
        "        if num % i == 0:\n",
        "            return False\n",
        "    return True\n",
        "\n",
        "prime_set = set()\n",
        "\n",
        "num = 2\n",
        "\n",
        "while len(prime_set) < 5:\n",
        "\n",
        "    if is_prime(num):\n",
        "\n",
        "        prime_set.add(num)\n",
        "    num += 1\n",
        "print(\"set of first 5 prime number:\", prime_set)\n",
        "\n",
        "\n"
      ],
      "metadata": {
        "id": "bCF7cgkoFwkm"
      },
      "execution_count": null,
      "outputs": []
    },
    {
      "cell_type": "code",
      "source": [
        "# check if two sets are identical.\n",
        "set1 = {3,5,6}\n",
        "set2 = {3,4,6}\n",
        "if set1 == set2:\n",
        "    print(\"both are indentical:\")\n",
        "\n",
        "else:\n",
        "    print(\"both are not identical\")"
      ],
      "metadata": {
        "colab": {
          "base_uri": "https://localhost:8080/"
        },
        "id": "rwxuf-TjHNiU",
        "outputId": "139281f6-72f5-4641-d257-a10e598a6d53"
      },
      "execution_count": 141,
      "outputs": [
        {
          "output_type": "stream",
          "name": "stdout",
          "text": [
            "both are not identical\n"
          ]
        }
      ]
    },
    {
      "cell_type": "code",
      "source": [
        "# create a frozen set.\n",
        "element = [3,6,6,4]\n",
        "frozen_set = frozenset(element)\n",
        "print(frozen_set)"
      ],
      "metadata": {
        "colab": {
          "base_uri": "https://localhost:8080/"
        },
        "id": "k8pWcCtSHe57",
        "outputId": "da50e4f4-d8af-48c9-8758-4b082bee61d1"
      },
      "execution_count": 142,
      "outputs": [
        {
          "output_type": "stream",
          "name": "stdout",
          "text": [
            "frozenset({3, 4, 6})\n"
          ]
        }
      ]
    },
    {
      "cell_type": "code",
      "source": [
        "# check if a set is disjoint with another set.\n",
        "set1 = {3,5,6}\n",
        "set2 = {3,4,6}\n",
        "\n",
        "disjoint_stat = set1.isdisjoint(set2)\n",
        "print(\"sets disjoint:\",disjoint_stat)"
      ],
      "metadata": {
        "colab": {
          "base_uri": "https://localhost:8080/"
        },
        "id": "2s1DuMmcHx9J",
        "outputId": "d533f01f-e99d-4f18-ed43-0a815db321c7"
      },
      "execution_count": 143,
      "outputs": [
        {
          "output_type": "stream",
          "name": "stdout",
          "text": [
            "sets disjoint: False\n"
          ]
        }
      ]
    },
    {
      "cell_type": "code",
      "source": [
        "# create a set of squares of nubmbers from 1 to 5\n",
        "square_set = set()\n",
        "for num in range(1,6):\n",
        "    square = num ** 2\n",
        "    square_set.add(square)\n",
        "\n",
        "print(square_set)"
      ],
      "metadata": {
        "id": "GoSuq43sIQy-"
      },
      "execution_count": null,
      "outputs": []
    },
    {
      "cell_type": "code",
      "source": [
        "# filter out all even numbers from a ste.\n",
        "sett = {1,2,3,4,5}\n",
        "even_set = set()\n",
        "for num in original set:\n",
        "    if num % 2 == 0:\n",
        "        even_set.add(num)\n",
        "\n",
        "print(\"even number set:\", even_set)"
      ],
      "metadata": {
        "id": "fybgdWz8Im6Q"
      },
      "execution_count": null,
      "outputs": []
    },
    {
      "cell_type": "code",
      "source": [
        "# multiply all element in a set by 2.\n",
        "sett = {2,35,6}\n",
        "multiplied_set = set()\n",
        "for num in sett:\n",
        "    multiplied_num = num*2\n",
        "    multiplied.set.add(multiplied_num)\n",
        "\n",
        "print(\"multiplied set:\", multiplied_set)\n"
      ],
      "metadata": {
        "id": "4gWpxleMJXYq"
      },
      "execution_count": null,
      "outputs": []
    },
    {
      "cell_type": "code",
      "source": [
        "# create set of random numbers.\n",
        "import random\n",
        "\n",
        "# Step 2: Define the number of random numbers you want in the set\n",
        "num_random_numbers = 5\n",
        "\n",
        "# Step 3: Initialize an empty set to store the random numbers\n",
        "random_number_set = set()\n",
        "\n",
        "# Step 4: Use a loop to generate random numbers and add them to the set\n",
        "for _ in range(num_random_numbers):\n",
        "    # Generate a random integer using the `randint` function from the `random` module\n",
        "    random_num = random.randint(1, 100)  # Generate a random number between 1 and 100\n",
        "    # Add the random number to the set\n",
        "    random_number_set.add(random_num)\n",
        "\n",
        "# Step 5: Print the generated set of random numbers\n",
        "print(\"Generated set of random numbers:\", random_number_set)"
      ],
      "metadata": {
        "id": "daNoobtQJ4Nf"
      },
      "execution_count": null,
      "outputs": []
    },
    {
      "cell_type": "code",
      "source": [
        "# check if a set is empty.\n",
        "\n",
        "my_set = set()\n",
        "\n",
        "# Step 2: Check if the set is empty using the 'if' statement\n",
        "if not my_set:\n",
        "    print(\"The set is empty.\")\n",
        "else:\n",
        "    print(\"The set is not empty.\")"
      ],
      "metadata": {
        "id": "PCNEJpEYKVnC"
      },
      "execution_count": null,
      "outputs": []
    },
    {
      "cell_type": "code",
      "source": [
        "# create a nested set .\n",
        "set1 = {1, 2, 3, 4, 5}\n",
        "set2 = {6, 7, 8, 9, 10}\n",
        "\n",
        "# Step 2: Create frozensets from the inner sets\n",
        "frozen_set1 = frozenset(set1)\n",
        "frozen_set2 = frozenset(set2)\n",
        "\n",
        "# Step 3: Create the nested set using the frozensets\n",
        "nested_set = {frozen_set1, frozen_set2}\n",
        "\n",
        "# Print the nested set\n",
        "print(\"Nested Set:\", nested_set)"
      ],
      "metadata": {
        "id": "IQKSF6CaKmDU"
      },
      "execution_count": null,
      "outputs": []
    },
    {
      "cell_type": "code",
      "source": [
        "# remove an element from a set using the discard method.\n",
        "my_set = {1, 2, 3, 4, 5}\n",
        "\n",
        "# Display the initial set\n",
        "print(\"Initial set:\", my_set)\n",
        "\n",
        "# Define the element to be removed\n",
        "element_to_remove = 3\n",
        "\n",
        "# Use the discard() method to remove the element from the set\n",
        "# If the element is not present in the set, discard() won't raise an error\n",
        "my_set.discard(element_to_remove)\n",
        "\n",
        "# Display the set after removing the element\n",
        "print(\"Set after removing\", element_to_remove, \":\", my_set)"
      ],
      "metadata": {
        "id": "nxLpDrkmKsQG"
      },
      "execution_count": null,
      "outputs": []
    },
    {
      "cell_type": "code",
      "source": [
        "# compare two sets.\n",
        "set1 = {1, 2, 3, 4, 5}\n",
        "set2 = {4, 5, 6, 7, 8}\n",
        "\n",
        "# Step 2: Use set operations to compare the sets\n",
        "# Check if set1 is a subset of set2\n",
        "is_subset = set1.issubset(set2)\n",
        "\n",
        "# Check if set2 is a subset of set1\n",
        "is_superset = set1.issuperset(set2)\n",
        "\n",
        "# Find the intersection of the sets\n",
        "intersection = set1.intersection(set2)\n",
        "\n",
        "# Find the union of the sets\n",
        "union = set1.union(set2)\n",
        "\n",
        "# Find the elements that are in set1 but not in set2\n",
        "difference1 = set1.difference(set2)\n",
        "\n",
        "# Find the elements that are in set2 but not in set1\n",
        "difference2 = set2.difference(set1)\n",
        "\n",
        "# Step 3: Print the results\n",
        "print(\"Set 1:\", set1)\n",
        "print(\"Set 2:\", set2)\n",
        "print(\"Is set1 a subset of set2?\", is_subset)\n",
        "print(\"Is set2 a subset of set1?\", is_superset)\n",
        "print(\"Intersection:\", intersection)\n",
        "print(\"Union:\", union)\n",
        "print(\"Elements in set1 but not in set2:\", difference1)\n",
        "print(\"Elements in set2 but not in set1:\", difference2)"
      ],
      "metadata": {
        "id": "6wG0QkvVK1JG"
      },
      "execution_count": null,
      "outputs": []
    },
    {
      "cell_type": "code",
      "source": [
        "# create a set from a string.\n",
        "input_string = \"hello\"\n",
        "\n",
        "# Step 2: Use the set() constructor to create a set from the characters in the string\n",
        "char_set = set(input_string)\n",
        "\n",
        "# Step 3: Print the resulting set\n",
        "print(char_set)"
      ],
      "metadata": {
        "id": "SZsWQK-oK_zn"
      },
      "execution_count": null,
      "outputs": []
    },
    {
      "cell_type": "code",
      "source": [
        "# comvet a set of string to a set of integers.\n",
        "string_set = {\"123\", \"456\", \"789\"}\n",
        "\n",
        "# Step 2: Initialize an empty set to store integers\n",
        "integer_set = set()\n",
        "\n",
        "# Step 3: Iterate through each string in the string set\n",
        "for string in string_set:\n",
        "    # Step 4: Convert the string to an integer using the int() function\n",
        "    integer_value = int(string)\n",
        "\n",
        "    # Step 5: Add the integer to the integer set\n",
        "    integer_set.add(integer_value)\n",
        "\n",
        "# Step 6: Print the original string set and the converted integer set\n",
        "print(\"Original String Set:\", string_set)\n",
        "print(\"Converted Integer Set:\", integer_set)"
      ],
      "metadata": {
        "id": "KOm28IwpLEpe"
      },
      "execution_count": null,
      "outputs": []
    },
    {
      "cell_type": "code",
      "source": [
        "# convert a set of integers to a set of strings.\n",
        "integers_set = {1, 2, 3, 4, 5}\n",
        "\n",
        "# Step 2: Initialize an empty set to store the strings\n",
        "strings_set = set()\n",
        "\n",
        "# Step 3: Iterate through each integer in the integers_set\n",
        "for num in integers_set:\n",
        "    # Step 4: Convert the integer to a string using the str() function\n",
        "    num_str = str(num)\n",
        "\n",
        "    # Step 5: Add the string representation to the strings_set\n",
        "    strings_set.add(num_str)\n",
        "\n",
        "# Step 6: Print the original integers_set and the converted strings_set\n",
        "print(\"Original integers_set:\", integers_set)\n",
        "print(\"Converted strings_set:\", strings_set)"
      ],
      "metadata": {
        "id": "gNIRCU50LLM5"
      },
      "execution_count": null,
      "outputs": []
    },
    {
      "cell_type": "code",
      "source": [
        "# create a set from a tuple.\n",
        "input_tuple = (1, 2, 3, 2, 4, 5, 1)\n",
        "\n",
        "# Step 1: Convert the tuple to a set\n",
        "output_set = set(input_tuple)\n",
        "# At this point, the set() function is used to convert the elements of the tuple into a set.\n",
        "# Since sets only contain unique elements, duplicate values are automatically removed.\n",
        "\n",
        "# Step 2: Print the resulting set\n",
        "print(output_set)"
      ],
      "metadata": {
        "id": "Guu8wb25LQ6i"
      },
      "execution_count": null,
      "outputs": []
    },
    {
      "cell_type": "code",
      "source": [
        "#j convet a set to a tuple,\n",
        "input_set = {1, 2, 3, 4, 5}\n",
        "\n",
        "# Step 2: Convert the set to a tuple\n",
        "output_tuple = tuple(input_set)\n",
        "\n",
        "# Step 3: Print the original set and the converted tuple\n",
        "print(\"Original set:\", input_set)\n",
        "print(\"Converted tuple:\", output_tuple)"
      ],
      "metadata": {
        "id": "f3ih_XHPLacA"
      },
      "execution_count": null,
      "outputs": []
    },
    {
      "cell_type": "code",
      "source": [
        "# find the max value in a set.\n",
        "my_set = {15, 7, 22, 13, 8}\n",
        "\n",
        "# Initialize a variable to store the maximum value\n",
        "max_value = None\n",
        "\n",
        "# Iterate through each element in the set\n",
        "for num in my_set:\n",
        "    # Check if max_value is None (first iteration) or if the current number is greater than max_value\n",
        "    if max_value is None or num > max_value:\n",
        "        max_value = num  # Update max_value with the current number if it's greater\n",
        "\n",
        "# Print the maximum value\n",
        "print(\"Maximum value:\", max_value)"
      ],
      "metadata": {
        "id": "ij-HHelALhjQ"
      },
      "execution_count": null,
      "outputs": []
    },
    {
      "cell_type": "code",
      "source": [
        "# find the min value in a set.\n",
        "number_set = {15, 8, 23, 4, 42, 11}\n",
        "\n",
        "# Initialize a variable to store the minimum value\n",
        "min_value = None\n",
        "\n",
        "# Iterate through each element in the set\n",
        "for num in number_set:\n",
        "    # Check if min_value is None (first iteration) or if num is smaller than the current min_value\n",
        "    if min_value is None or num < min_value:\n",
        "        # Update min_value to the current num since it's smaller\n",
        "        min_value = num\n",
        "\n",
        "# Print the minimum value found in the set\n",
        "print(\"The minimum value in the set is:\", min_value)"
      ],
      "metadata": {
        "id": "qABJ3YwNLozB"
      },
      "execution_count": null,
      "outputs": []
    },
    {
      "cell_type": "code",
      "source": [
        "# create a set from user input.\n",
        "user_set = set()\n",
        "\n",
        "# Step 2: Get input from the user\n",
        "print(\"Enter elements for the set (type 'done' to finish):\")\n",
        "while True:\n",
        "    user_input = input(\"> \")  # Get input from the user\n",
        "\n",
        "    if user_input.lower() == 'done':\n",
        "        break  # Exit the loop if the user enters 'done'\n",
        "\n",
        "    # Step 3: Add the user input to the set\n",
        "    user_set.add(user_input)\n",
        "\n",
        "# Step 4: Display the final set created from user input\n",
        "print(\"Final set:\", user_set)"
      ],
      "metadata": {
        "id": "Det5tEJ1LwUf"
      },
      "execution_count": null,
      "outputs": []
    },
    {
      "cell_type": "code",
      "source": [
        "# check if the intersedtion of two sets is empty.\n",
        "set1 = {1, 2, 3, 4, 5}\n",
        "set2 = {4, 5, 6, 7, 8}\n",
        "\n",
        "# Step 2: Find the intersection of the two sets using the `intersection()` method\n",
        "intersection_result = set1.intersection(set2)\n",
        "\n",
        "# Step 3: Check if the intersection result is empty\n",
        "if not intersection_result:\n",
        "    print(\"The intersection of the two sets is empty.\")\n",
        "else:\n",
        "    print(\"The intersection of the two sets is not empty.\")"
      ],
      "metadata": {
        "id": "PiWV8lE2L2ZO"
      },
      "execution_count": null,
      "outputs": []
    },
    {
      "cell_type": "code",
      "source": [
        "# create a set of the first 5 fibonaci numbers.\n",
        "fibonacci_set = set()\n",
        "\n",
        "# Initialize the first two Fibonacci numbers\n",
        "a, b = 0, 1\n",
        "\n",
        "# Loop to generate the first 5 Fibonacci numbers\n",
        "for _ in range(6):\n",
        "    # Add the current Fibonacci number to the set\n",
        "    fibonacci_set.add(a)\n",
        "\n",
        "    # Calculate the next Fibonacci number\n",
        "    a, b = b, a + b\n",
        "\n",
        "# Print the set of Fibonacci numbers\n",
        "print(\"Set of the first 5 Fibonacci numbers:\", fibonacci_set()\n"
      ],
      "metadata": {
        "id": "Zj_OQ7WCL9lF"
      },
      "execution_count": null,
      "outputs": []
    },
    {
      "cell_type": "code",
      "source": [
        "# remove duplicates drom a list using sets.\n",
        "original_list = [2, 4, 6, 8, 4, 10, 6, 12, 14, 8]\n",
        "\n",
        "# Step 2: Convert the list to a set\n",
        "unique_set = set(original_list)\n",
        "# Now, 'unique_set' contains only unique elements from 'original_list'\n",
        "\n",
        "# Step 3: Convert the set back to a list\n",
        "unique_list = list(unique_set)\n",
        "# Now, 'unique_list' is a list containing only unique elements\n",
        "\n",
        "# Step 4: Print the original list and the list with duplicates removed\n",
        "print(\"Original List:\", original_list)\n",
        "print(\"List with Duplicates Removed:\", unique_list)"
      ],
      "metadata": {
        "id": "oLUn_hfUMDJd"
      },
      "execution_count": null,
      "outputs": []
    },
    {
      "cell_type": "code",
      "source": [
        "# check if two sets have the same elements, regardless of their count.\n",
        "def have_same_elements(set1, set2):\n",
        "    # Convert the sets to lists and sort them\n",
        "    sorted_list1 = sorted(list(set1))\n",
        "    sorted_list2 = sorted(list(set2))\n",
        "\n",
        "    # Compare the sorted lists to check if they are equal\n",
        "    return sorted_list1 == sorted_list2\n",
        "\n",
        "# Example sets\n",
        "set1 = {1, 2, 3, 2, 1}\n",
        "set2 = {3, 1, 2}\n",
        "\n",
        "# Check if the sets have the same elements\n",
        "result = have_same_elements(set1, set2)\n",
        "\n",
        "# Print the result\n",
        "if result:\n",
        "    print(\"The sets have the same elements.\")\n",
        "else:\n",
        "    print(\"The sets do not have the same elements.\")"
      ],
      "metadata": {
        "id": "sQvwctk0MJgZ"
      },
      "execution_count": null,
      "outputs": []
    },
    {
      "cell_type": "code",
      "source": [
        "# create a set of the first n powers of 2.\n",
        "def generate_powers_of_2(n):\n",
        "    # Initialize an empty set to store the powers of 2\n",
        "    powers_of_2 = set()\n",
        "\n",
        "    # Loop from 0 to n-1\n",
        "    for i in range(n):\n",
        "        # Calculate the current power of 2 using the exponentiation operator **\n",
        "        power = 2 ** i\n",
        "\n",
        "        # Add the current power of 2 to the set\n",
        "        powers_of_2.add(power)\n",
        "\n",
        "    # Return the set of powers of 2\n",
        "    return powers_of_2\n",
        "\n",
        "# Define the value of n\n",
        "n = 5\n",
        "\n",
        "# Call the function to generate the set of powers of 2\n",
        "powers_set = generate_powers_of_2(n)\n",
        "\n",
        "# Print the resulting set\n",
        "print(powers_set)"
      ],
      "metadata": {
        "id": "nuY18NMSMQPR"
      },
      "execution_count": null,
      "outputs": []
    },
    {
      "cell_type": "code",
      "source": [
        "# find the common elements between a set and a lsit.\n",
        "# Step 1: Define a set and a list\n",
        "my_set = {3, 7, 9, 12, 15}\n",
        "my_list = [7, 12, 5, 9]\n",
        "\n",
        "# Step 2: Convert the list to a set for efficient comparison\n",
        "list_to_set = set(my_list)\n",
        "\n",
        "# Step 3: Initialize an empty list to store common elements\n",
        "common_elements = []\n",
        "\n",
        "# Step 4: Iterate through the elements in the set\n",
        "for element in my_set:\n",
        "    # Step 5: Check if the element is present in the converted set (list_to_set)\n",
        "    if element in list_to_set:\n",
        "        # Step 6: If the element is present in both the set and the list, add it to the common_elements list\n",
        "        common_elements.append(element)\n",
        "\n",
        "# Step 7: Print the common elements\n",
        "print(\"Common elements:\", common_elements)"
      ],
      "metadata": {
        "id": "IiXC4j0qMVWF"
      },
      "execution_count": null,
      "outputs": []
    },
    {
      "cell_type": "code",
      "source": [
        "# create a set of the first n triangular numbers.\n",
        "def generate_triangular_numbers(n):\n",
        "    triangular_numbers = set()  # Create an empty set to store the triangular numbers\n",
        "    for i in range(1, n + 1):\n",
        "        triangular_number = i * (i + 1) // 2  # Calculate the ith triangular number using the formula\n",
        "        triangular_numbers.add(triangular_number)  # Add the calculated triangular number to the set\n",
        "    return triangular_numbers\n",
        "\n",
        "# Input the value of 'n'\n",
        "n = int(input(\"Enter the value of n: \"))\n",
        "\n",
        "# Call the function to generate the set of first 'n' triangular numbers\n",
        "triangular_set = generate_triangular_numbers(n)\n",
        "\n",
        "# Display the set of triangular numbers\n",
        "print(f\"The set of the first {n} triangular numbers is:\", triangular_set)"
      ],
      "metadata": {
        "id": "jqLcwTd5Meh-"
      },
      "execution_count": null,
      "outputs": []
    },
    {
      "cell_type": "code",
      "source": [
        "# check if a set contains another set as a subst.\n",
        "\n",
        "# Define two sets\n",
        "set1 = {1, 2, 3, 4, 5}\n",
        "set2 = {3, 4}\n",
        "\n",
        "# Check if set2 is a subset of set1\n",
        "is_subset = set2.issubset(set1)\n",
        "\n",
        "# Print the result\n",
        "if is_subset:\n",
        "    print(\"set2 is a subset of set1\")\n",
        "else:\n",
        "    print(\"set2 is not a subset of set1\")"
      ],
      "metadata": {
        "id": "bnifzJs-MkEg"
      },
      "execution_count": null,
      "outputs": []
    },
    {
      "cell_type": "code",
      "source": [
        "# create a set of alternating 1s and 0s of length n.\n",
        "def create_alternating_set(n):\n",
        "    # Initialize an empty set to store the alternating sequence.\n",
        "    alternating_set = set()\n",
        "\n",
        "    # Loop to generate alternating 1s and 0s.\n",
        "    for i in range(n):\n",
        "        # Alternate between adding 1 and 0 to the set based on whether i is even or odd.\n",
        "        if i % 2 == 0:\n",
        "            alternating_set.add(1)  # Add 1 if i is even.\n",
        "        else:\n",
        "            alternating_set.add(0)  # Add 0 if i is odd.\n",
        "\n",
        "    return alternating_set\n",
        "\n",
        "# Define the desired length of the alternating set.\n",
        "length_n = 10\n",
        "\n",
        "# Call the function to create the alternating set of length 'length_n'.\n",
        "result = create_alternating_set(length_n)\n",
        "\n",
        "# Print the resulting set.\n",
        "print(result)"
      ],
      "metadata": {
        "id": "2qBuJ_JAMt19"
      },
      "execution_count": null,
      "outputs": []
    },
    {
      "cell_type": "code",
      "source": [
        "# merghe multiple sets into one.\n",
        "# Step 1: Create multiple sets\n",
        "set1 = {1, 2, 3}\n",
        "set2 = {3, 4, 5}\n",
        "set3 = {5, 6, 7}\n",
        "\n",
        "# Step 2: Use the union() method to merge sets\n",
        "merged_set = set1.union(set2, set3)\n",
        "\n",
        "# Alternatively, you can use the | operator\n",
        "# merged_set = set1 | set2 | set3\n",
        "\n",
        "# Step 3: Print the merged set\n",
        "print(\"Merged Set:\", merged_set)"
      ],
      "metadata": {
        "id": "n7x5spoVM0FU"
      },
      "execution_count": null,
      "outputs": []
    }
  ]
}